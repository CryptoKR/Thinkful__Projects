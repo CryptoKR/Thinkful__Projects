{
 "cells": [
  {
   "cell_type": "markdown",
   "metadata": {},
   "source": [
    "* What is your data source and how will you access it?\n",
    "\n",
    "\n",
    "* What techniques from the course do you anticipate using?\n",
    "\n",
    "\n",
    "* What do you anticipate to be the biggest challenge you’ll face?\n",
    "\n"
   ]
  },
  {
   "cell_type": "markdown",
   "metadata": {},
   "source": [
    "* Problem\n",
    "\n",
    "The cryptocurrency market is highly volatile and [recent studies](https://www.sifrdata.com/cryptocurrency-correlation-matrix/) show that the majority of cryptocurrencies have a strong positive correlation with one another.  A popular investment strategy for cryptocurrency enthusiasts is to [HODL](https://bitcointalk.org/index.php?topic=375643.0) (Hold On for Dear Life), which was created when a Bitcoin fan misspelled \"hold\" several times in a drunken blog rant.  And while many people in the crypto community swear to HODL, taking investment advice from someone on the internet drunk on whiskey is probably not the best idea.  In this analysis I am going to compare two different investment strategies for cryptocurrency (HODL and rebalancing), so hold on, and we will see how the HODL strategy actually performs.\n",
    "\n",
    "* How is your solution valuable\n",
    "\n",
    "With the cryptocurrency market valued at several hundred billion dollars, it has transformed from the \"currency of the dark web\" in which people use Bitcoin to buy drugs and illegal services, to a financial medium that banks are considering to use for anything from faciliting cross-border payments to exchange-traded funds.  That being said, it's possible that in the future cryptocurrency investments are as commonplace as 401k's.  This solution is aimed at maximizing returns for the average investor that does not have access to the financial instruments offered to high net-worth individuals.\n",
    "\n",
    "* Data source and how will it will be accessed\n",
    "\n",
    "Total market cap historical prices: unable to find website to provide API, so it was pulled from ?????\n",
    "Coin historical prices: API with Binance.com\n",
    "\n",
    "\n",
    "* Techniques from course that I anticipate using\n",
    "\n",
    "APIs\n",
    "Data aggregation/cleansing\n",
    "Data exploration\n",
    "Data visualization\n",
    "Data standardization\n",
    "Machine Learning algorithms\n",
    "Feature generation\n",
    "Time series\n",
    "\n",
    "* Biggest challenge I'll face?\n",
    "\n",
    "Most cryptocurrencies were developed in the last few years, so there is not a lot of historical data available.  Also, the cryptocurrency market has been consistently increasing with very few time frames that don't end up net positive, so our analysis will be skewed compared to analyzing stock markets that have both overperformed and underperformed over time.  To combat skewness, instead of picking a year time frame where the ending market cap is lowest compared to the starting market cap, we will take all starting and ending market cap differences, and use the time frame with the median difference as our basis for analysis."
   ]
  },
  {
   "cell_type": "code",
   "execution_count": null,
   "metadata": {},
   "outputs": [],
   "source": []
  }
 ],
 "metadata": {
  "kernelspec": {
   "display_name": "Python 3",
   "language": "python",
   "name": "python3"
  },
  "language_info": {
   "codemirror_mode": {
    "name": "ipython",
    "version": 3
   },
   "file_extension": ".py",
   "mimetype": "text/x-python",
   "name": "python",
   "nbconvert_exporter": "python",
   "pygments_lexer": "ipython3",
   "version": "3.6.5"
  }
 },
 "nbformat": 4,
 "nbformat_minor": 2
}
