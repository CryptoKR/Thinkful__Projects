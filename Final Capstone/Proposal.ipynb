{
 "cells": [
  {
   "cell_type": "markdown",
   "metadata": {},
   "source": [
    "* What is your data source and how will you access it?\n",
    "\n",
    "\n",
    "* What techniques from the course do you anticipate using?\n",
    "\n",
    "\n",
    "* What do you anticipate to be the biggest challenge you’ll face?\n",
    "\n"
   ]
  },
  {
   "cell_type": "markdown",
   "metadata": {},
   "source": [
    "* Problem\n",
    "\n",
    "The cryptocurrency market is highly volatile and [recent studies](https://www.sifrdata.com/cryptocurrency-correlation-matrix/) show that the majority of cryptocurrencies have a strong positive correlation with one another.  A popular investment strategy for cryptocurrency enthusiasts is to [HODL](https://bitcointalk.org/index.php?topic=375643.0) (Hold On for Dear Life), which was created when a Bitcoin fan misspelled \"hold\" several times in a drunken blog rant.  And while many people in the crypto community swear to HODL, taking investment advice from someone on the internet drunk on whiskey is probably not the best idea.  In this analysis I am going to compare two different investment strategies for cryptocurrency (HODL and rebalancing), so hold on, and we will see how the HODL strategy actually performs.\n",
    "\n",
    "* How is your solution valuable\n",
    "With the cryptocurrency market valued at several hundred billion dollars, it has transformed from the \"currency of the dark web\" in which people use Bitcoin to buy drugs and illegal services, to a financial medium that banks are considering to use for anything from faciliting cross-border payments to exchange-traded funds.\n",
    "\n",
    "\n"
   ]
  },
  {
   "cell_type": "code",
   "execution_count": null,
   "metadata": {},
   "outputs": [],
   "source": []
  }
 ],
 "metadata": {
  "kernelspec": {
   "display_name": "Python 3",
   "language": "python",
   "name": "python3"
  },
  "language_info": {
   "codemirror_mode": {
    "name": "ipython",
    "version": 3
   },
   "file_extension": ".py",
   "mimetype": "text/x-python",
   "name": "python",
   "nbconvert_exporter": "python",
   "pygments_lexer": "ipython3",
   "version": "3.6.5"
  }
 },
 "nbformat": 4,
 "nbformat_minor": 2
}
