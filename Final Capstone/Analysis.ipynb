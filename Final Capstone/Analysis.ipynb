{
 "cells": [
  {
   "cell_type": "markdown",
   "metadata": {},
   "source": [
    "* Wrangle your data. Get it into the notebook in the best form possible for your analysis and model building.\n",
    "\n",
    "* Explore your data. Make visualizations and conduct statistical analyses to explain what’s happening with your data, why it’s interesting, and what features you intend to take advantage of for your modeling.\n",
    "\n",
    "* Build a modeling pipeline. Your model should be build in a coherent pipeline of linked stages that is efficient and easy to implement.\n",
    "\n",
    "* Evaluate your models. You should have built multiple models, which you should thoroughly evaluate and compare via a robust analysis of residuals and failures.\n",
    "\n",
    "* Present and thoroughly explain your product. Describe your model in detail: why you chose it, why it works, what problem it solves, how it will run in a production like environment. What would you need to do to maintain it going forward?"
   ]
  },
  {
   "cell_type": "code",
   "execution_count": null,
   "metadata": {},
   "outputs": [],
   "source": [
    "import pandas as pd\n",
    "import numpy as np\n",
    "import sys\n",
    "import time\n",
    "import random\n",
    "import matplotlib.pyplot as plt\n",
    "import ccxt\n",
    "import os\n",
    "import statistics\n",
    "from sklearn.ensemble import RandomForestClassifier\n",
    "import seaborn as sns\n",
    "%matplotlib inline"
   ]
  },
  {
   "cell_type": "markdown",
   "metadata": {},
   "source": [
    "Historical market cap was downloaded from https://coin.dance/stats/marketcaphistorical."
   ]
  },
  {
   "cell_type": "code",
   "execution_count": null,
   "metadata": {},
   "outputs": [],
   "source": [
    "file = '../data/historical market cap.csv'\n",
    "df = pd.read_csv(file)\n",
    "\n",
    "# convert date column to epoch time\n",
    "df.rename(columns={0: 'date'}, inplace=True)\n",
    "dates = [int(time.mktime(time.strptime(day, '%m/%d/%Y'))) for day in df['date']]\n",
    "df['date'] = dates\n",
    "\n",
    "# Total market cap\n",
    "df['Total Market Cap'] = df['Altcoin Market Cap'] + df['Bitcoin Market Cap']\n",
    "\n",
    "# Save file\n",
    "df.set_index('date', drop=True, inplace=True)\n",
    "df.to_csv('../data/historical market cap.csv')"
   ]
  },
  {
   "cell_type": "markdown",
   "metadata": {},
   "source": [
    "Historical market prices of coins"
   ]
  },
  {
   "cell_type": "code",
   "execution_count": null,
   "metadata": {},
   "outputs": [],
   "source": []
  },
  {
   "cell_type": "markdown",
   "metadata": {},
   "source": [
    "HODL simulation function (returns HODL simulation dataframe)"
   ]
  },
  {
   "cell_type": "code",
   "execution_count": null,
   "metadata": {},
   "outputs": [],
   "source": [
    "def simulate_HODL():\n",
    "    simulations = pd.DataFrame(index=sim_dates)\n",
    "\n",
    "    for sim_num in range(1000):\n",
    "        # Randomly select basket of coins\n",
    "        random_list = random.sample(range(len(coins)-1), num_coins)\n",
    "\n",
    "        # Determine amount of each coin bought on day 0\n",
    "        coin_amts = amt_each / historical_prices[0, random_list]\n",
    "\n",
    "        # Use coins as column name\n",
    "        col = '-'.join([coins[i] for i in random_list])\n",
    "\n",
    "        # Dot multiply list of coin amounts with array of historical prices of selected coins\n",
    "        simulations[col] = historical_prices[:, random_list].dot(coin_amts)\n",
    "\n",
    "    simulations.to_csv(file_path +  'HODL.csv')\n",
    "    return simulations"
   ]
  },
  {
   "cell_type": "markdown",
   "metadata": {},
   "source": [
    "Rebalance simulation function"
   ]
  },
  {
   "cell_type": "code",
   "execution_count": null,
   "metadata": {},
   "outputs": [],
   "source": []
  },
  {
   "cell_type": "markdown",
   "metadata": {},
   "source": [
    "Simulations"
   ]
  },
  {
   "cell_type": "code",
   "execution_count": null,
   "metadata": {},
   "outputs": [],
   "source": [
    "historical_prices = pd.read_csv(file_path + 'historical prices.csv')\n",
    "\n",
    "coins = historical_prices.columns.tolist()[1:]\n",
    "\n",
    "# Exclude date column from historical prices\n",
    "historical_prices = np.array(historical_prices[coins])\n",
    "\n",
    "# get date ranges used for simulations\n",
    "historical_cap = pd.read_csv(file_path + 'historical market cap.csv')\n",
    "historical_cap = np.array(historical_cap)\n",
    "\n",
    "start_dates = historical_cap[:len(historical_cap) - 365]\n",
    "end_dates = historical_cap[365:]\n",
    "\n",
    "# Subtract the ending market caps from each other, located in the 4th column\n",
    "cap_diffs = list(end_dates[:, 3] - start_dates[:, 3])\n",
    "\n",
    "    \n",
    "# Make sure there's an odd number of dates, so the median value can be indexed\n",
    "if len(cap_diffs) % 2 == 0:\n",
    "cap_diffs.pop(len(cap_diffs)-1)\n",
    "        \n",
    "# Start date for simulations\n",
    "start_date = cap_diffs.index(np.median(cap_diffs))\n",
    "\n",
    "# Limit dataframe dates to the date range\n",
    "historical_prices = historical_prices[start_date:start_date + 365]\n",
    "sim_dates = sim_dates[start_date:start_date + 365]\n",
    "\n",
    "# Retrieve all current tickers on exchange\n",
    "exchange = ccxt.bittrex()\n",
    "tickers = set()\n",
    "[tickers.add(ticker) for ticker in exchange.fetch_tickers()]\n",
    "\n",
    "# Start with $5000 of Bitcoin at day 0 price\n",
    "start_amt = 5000\n",
    "num_coins = 5\n",
    "amt_each = start_amt / num_coins\n",
    "\n",
    "df = simulate_HODL()\n",
    "simulate_rebalance(df)"
   ]
  },
  {
   "cell_type": "code",
   "execution_count": null,
   "metadata": {},
   "outputs": [],
   "source": []
  },
  {
   "cell_type": "code",
   "execution_count": null,
   "metadata": {},
   "outputs": [],
   "source": []
  },
  {
   "cell_type": "code",
   "execution_count": null,
   "metadata": {},
   "outputs": [],
   "source": []
  },
  {
   "cell_type": "code",
   "execution_count": null,
   "metadata": {},
   "outputs": [],
   "source": []
  },
  {
   "cell_type": "code",
   "execution_count": null,
   "metadata": {},
   "outputs": [],
   "source": []
  },
  {
   "cell_type": "code",
   "execution_count": null,
   "metadata": {},
   "outputs": [],
   "source": [
    "path = 'C:/Users/Carter/Documents/Github/Thinkful__Projects/Final Capstone/'\n",
    "\n",
    "# DataFrames we've created\n",
    "historical_df = pd.read_csv(path + 'data/historical prices.csv')\n",
    "hodl_df = pd.read_csv(path + 'hodl.csv')\n",
    "rebalanced_df = pd.read_csv(path + 'rebalanced.csv')\n",
    "summary_df = pd.read_csv(path + 'summary.csv')\n",
    "\n",
    "# Date range used for simulations\n",
    "start_date, end_date = historical_data['date'][0], historical_data['date'][len(historical_data)-1]\n",
    "start_date = time.strftime('%m/%d/%Y', time.gmtime(start_date))\n",
    "end_date = time.strftime('%m/%d/%Y', time.gmtime(end_date))\n",
    "\n",
    "\n",
    "# list of coins used in each portfolio simulation\n",
    "coins = historical_data.columns[1:].tolist()\n",
    "cols = hodl_df.columns[1:]\n",
    "# For each simulation, make a list of the coins randomly chosen\n",
    "coin_lists = [i.split('-') for i in cols]\n",
    "\n",
    "print('Coins used in analysis', coins)\n",
    "print('Date range of simulation: {} - {}'.format(start_date, end_date)) "
   ]
  },
  {
   "cell_type": "code",
   "execution_count": null,
   "metadata": {},
   "outputs": [],
   "source": [
    "# End prices \n",
    "# Note: explain how taxes were calculated\n",
    "end_price_HODL = np.array(summary_df['end_price_HODL'] - summary_df['taxes_HODL'])\n",
    "end_price_rebalanced = np.array(summary_df['end_price_rebalanced'] - summary_df['taxes_rebalanced'])\n",
    "performance = list((end_price_rebalanced - end_price_HODL) / end_price_HODL)"
   ]
  },
  {
   "cell_type": "code",
   "execution_count": null,
   "metadata": {},
   "outputs": [],
   "source": [
    "# Dataframe to compare coin impact on outperforming HODL\n",
    "df = pd.DataFrame(columns=coins)\n",
    "df['beat market'] = performance\n",
    "df['beat market'] = df['beat market'] > 0\n",
    "df.fillna(False, inplace=True)\n",
    "\n",
    "# Fill Dataframe with coins used for each simulation\n",
    "for i in range(len(coin_lists)):\n",
    "    for coin in coin_lists[i]:\n",
    "        df.loc[i, coin] = True"
   ]
  },
  {
   "cell_type": "code",
   "execution_count": null,
   "metadata": {},
   "outputs": [],
   "source": [
    "# Feature importance analysis\n",
    "tree = RandomForestClassifier()\n",
    "X = df[coins]\n",
    "Y = df['beat market']\n",
    "tree.fit(X, Y)\n",
    "\n",
    "feature_importance = tree.feature_importances_\n",
    "feature_importance = 100 * (feature_importance / max(feature_importance))\n",
    "temp = feature_importance.tolist()\n",
    "\n",
    "# Take only top 10 features\n",
    "top_feats = sorted(feature_importance,reverse=True)[:10]\n",
    "sorted_features = np.array([temp.index(feat) for feat in top_feats])\n",
    "pos = np.arange(sorted_features.shape[0]) + .5\n",
    "plt.barh(pos, feature_importance[sorted_features], align='center')\n",
    "plt.yticks(pos, X.columns[sorted_features])\n",
    "plt.show()"
   ]
  }
 ],
 "metadata": {
  "kernelspec": {
   "display_name": "Python 3",
   "language": "python",
   "name": "python3"
  },
  "language_info": {
   "codemirror_mode": {
    "name": "ipython",
    "version": 3
   },
   "file_extension": ".py",
   "mimetype": "text/x-python",
   "name": "python",
   "nbconvert_exporter": "python",
   "pygments_lexer": "ipython3",
   "version": "3.7.0"
  }
 },
 "nbformat": 4,
 "nbformat_minor": 2
}
