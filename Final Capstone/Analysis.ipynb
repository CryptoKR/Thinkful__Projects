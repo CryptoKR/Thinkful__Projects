{
 "cells": [
  {
   "cell_type": "markdown",
   "metadata": {},
   "source": [
    "* Wrangle your data. Get it into the notebook in the best form possible for your analysis and model building.\n",
    "\n",
    "* Explore your data. Make visualizations and conduct statistical analyses to explain what’s happening with your data, why it’s interesting, and what features you intend to take advantage of for your modeling.\n",
    "\n",
    "* Build a modeling pipeline. Your model should be build in a coherent pipeline of linked stages that is efficient and easy to implement.\n",
    "\n",
    "* Evaluate your models. You should have built multiple models, which you should thoroughly evaluate and compare via a robust analysis of residuals and failures.\n",
    "\n",
    "* Present and thoroughly explain your product. Describe your model in detail: why you chose it, why it works, what problem it solves, how it will run in a production like environment. What would you need to do to maintain it going forward?"
   ]
  },
  {
   "cell_type": "code",
   "execution_count": 1,
   "metadata": {},
   "outputs": [],
   "source": [
    "import pandas as pd\n",
    "import numpy as np\n",
    "import sys\n",
    "import time\n",
    "import random\n",
    "import matplotlib.pyplot as plt\n",
    "import ccxt\n",
    "import os\n",
    "import statistics\n",
    "from sklearn.ensemble import RandomForestClassifier\n",
    "import seaborn as sns\n",
    "%matplotlib inline"
   ]
  },
  {
   "cell_type": "markdown",
   "metadata": {},
   "source": [
    "Historical market cap was downloaded from https://coin.dance/stats/marketcaphistorical."
   ]
  },
  {
   "cell_type": "markdown",
   "metadata": {},
   "source": [
    "Cleaning historical market cap"
   ]
  },
  {
   "cell_type": "code",
   "execution_count": null,
   "metadata": {},
   "outputs": [],
   "source": [
    "file = 'data/historical_market_cap_unformatted.xlsx'\n",
    "df = pd.read_excel(file)\n",
    "\n",
    "# convert date column to epoch time\n",
    "df = df.rename(columns={'Label': 'date'})\n",
    "\n",
    "dates = pd.DatetimeIndex(df['date'])\n",
    "dates = list(dates.astype(np.int64) / 10 **9)\n",
    "\n",
    "df['date'] = dates\n",
    "\n",
    "# # Total market cap\n",
    "df['Total Market Cap'] = df['Altcoin Market Cap'] + df['Bitcoin Market Cap']\n",
    "\n",
    "# # Save file\n",
    "df.set_index('date', drop=True, inplace=True)\n",
    "df.to_csv('data/historical_market_cap.csv')"
   ]
  },
  {
   "cell_type": "markdown",
   "metadata": {},
   "source": [
    "Pulling historical prices"
   ]
  },
  {
   "cell_type": "code",
   "execution_count": null,
   "metadata": {
    "scrolled": true
   },
   "outputs": [],
   "source": [
    "# pull epoch dates used for market caps\n",
    "market_cap = pd.read_csv(data/historical market cap.csv')\n",
    "dates_epoch = market_cap['date']\n",
    "date_range = [time.strftime('%m/%d/%Y', time.localtime(day)) for day in dates_epoch]\n",
    "\n",
    "# Use coins listed on Bittrex\n",
    "primary_exchange = ccxt.bittrex({'options': {'adjustForTimeDifference': True}})\n",
    "market = primary_exchange.load_markets()\n",
    "tickers = list(market.keys())\n",
    "\n",
    "coins = set()\n",
    "[[coins.add(coin) for coin in ticker.split('/') if coin != 'BTC'] for ticker in tickers]\n",
    "coins = list(coins)\n",
    "\n",
    "# Since we can't pull BTC/BTC, use BTC/USDT ticker.  Otherwise, use coin/BTC as ticker\n",
    "tickers = [coin + '/BTC' for coin in coins]\n",
    "coins.insert(0, 'BTC')\n",
    "tickers.insert(0, 'BTC/USDT')\n",
    "\n",
    "df = [list(dates_epoch)]\n",
    "coins_to_simulate = []\n",
    "\n",
    "for coin, ticker in zip(coins, tickers):\n",
    "    # Pull information if ticker exists\n",
    "    try:\n",
    "        data = np.array(primary_exchange.fetch_ohlcv(ticker, '1d'))[:, :2]\n",
    "    except:\n",
    "        continue\n",
    "\n",
    "    coin_prices = [price \\\n",
    "                   for day, price in data \\\n",
    "                   if time.strftime('%m/%d/%Y', time.localtime(day/1000)) in date_range]\n",
    "\n",
    "    # Only add coin if it has a full year of price data\n",
    "    if len(coin_prices) == len(dates):\n",
    "        df.append(coin_prices)\n",
    "        coins_to_simulate.append(coin)\n",
    "\n",
    "# Add date to the front of coins to create column names\n",
    "coins_to_simulate.insert(0, 'date')\n",
    "\n",
    "df_np = np.array(df)\n",
    "\n",
    "# Since all coins are in BTC denomination, multiply by BTC price to get $ price\n",
    "df_np[2:] *= df[1]\n",
    "\n",
    "new_df = pd.DataFrame(df_np.transpose(), columns=coins_to_simulate)\n",
    "\n",
    "new_df.set_index('date', drop=True, inplace=True)\n",
    "new_df.to_csv(os.getcwd() + '/backtests/historical prices.csv')\n"
   ]
  },
  {
   "cell_type": "markdown",
   "metadata": {},
   "source": [
    "HODL and Rebalance functions"
   ]
  },
  {
   "cell_type": "code",
   "execution_count": 41,
   "metadata": {},
   "outputs": [],
   "source": [
    "def simulate_HODL(num_coins):\n",
    "    sims = pd.DataFrame(index=sim_dates)\n",
    "\n",
    "    for sim_num in range(1000):\n",
    "        # Randomly select basket of coins\n",
    "        random_list = random.sample(range(len(coins)-1), num_coins)\n",
    "        \n",
    "        # Determine amount of each coin bought on day 0\n",
    "        amt_each = 5000 / num_coins\n",
    "        coin_amts = amt_each / hist_prices[0, random_list]\n",
    "\n",
    "        # Use coins as column name\n",
    "        col = '-'.join([coins[i] for i in random_list])\n",
    "\n",
    "        # Dot multiply list of coin amounts with array of historical prices of selected coins\n",
    "        sims[col] = hist_prices[:, random_list].dot(coin_amts)\n",
    "\n",
    "    sims.to_csv('data/HODL.csv')\n",
    "    return sims\n",
    "\n",
    "\n",
    "def simulate_rebalance(num_coins, df):\n",
    "\n",
    "    # Set the threshold of weight difference to trigger a trade\n",
    "    rate = 0.001\n",
    "    thresh = 0.05\n",
    "    avg_weight = 1 / num_coins\n",
    "    weighted_thresh = np.float32(avg_weight * thresh)\n",
    "\n",
    "    # Exclude date column\n",
    "    cols = df.columns.tolist()\n",
    "    hodl_sims = np.array(df)\n",
    "\n",
    "    # Create arrays to be transformed to CSV's\n",
    "    sim_summary = [[] for x in range(len(cols))]\n",
    "    rebalance_sims = np.empty(shape=(len(cols), len(hist_prices)))\n",
    "\n",
    "\n",
    "    # Use the same coin combinations as the HODL simulation\n",
    "    coin_lists = [col.split('-') for col in cols]\n",
    "\n",
    "    # For each simulation, convert the symbol into the corresponding column # in hist_prices\n",
    "    coin_lists_indices = [[coins.index(coin) for coin in coin_list] for coin_list in coin_lists]\n",
    "    \n",
    "\n",
    "    for num, (col, coin_list, coin_list_index) in enumerate(zip(cols, coin_lists, coin_lists_indices)):\n",
    "\n",
    "        trade_count = 0\n",
    "        fees = 0\n",
    "        daily_totals = [start_amt]\n",
    "\n",
    "        # Reduce hist_prices array to only the coins used in the simulation\n",
    "        hist_prices_small = hist_prices[:, coin_list_index]\n",
    "\n",
    "        # Calculate starting coin amounts\n",
    "        amt_each = 5000 / num_coins\n",
    "        coin_amts = amt_each / hist_prices_small[0]\n",
    "\n",
    "        # Simulate each day\n",
    "        for num_day in range(1,len(hist_prices)):\n",
    "            while True:\n",
    "                d_vals = hist_prices_small[num_day] * coin_amts\n",
    "                d_vals_total = sum(d_vals)\n",
    "                l_index, h_index = d_vals.argmin(), d_vals.argmax()\n",
    "\n",
    "                # See how far the lightest and heaviest coin weight deviates from average weight\n",
    "                weight_to_move = min([avg_weight - d_vals[l_index]/d_vals_total, d_vals[h_index]/d_vals_total - avg_weight])\n",
    "\n",
    "                if weighted_thresh > weight_to_move:\n",
    "                    break\n",
    "\n",
    "                trade_count += 1\n",
    "\n",
    "                d_amt = weight_to_move * d_vals_total\n",
    "                fees += (d_amt * rate)\n",
    "\n",
    "                # Get coin quantities to buy/sell based on current market price\n",
    "                l_quantity = d_amt / hist_prices_small[num_day, l_index]\n",
    "                h_quantity = d_amt / hist_prices_small[num_day, h_index]\n",
    "\n",
    "                # Adjust coin quantities\n",
    "                coin_amts[l_index] += (l_quantity * (1 - rate))\n",
    "                coin_amts[h_index] -= h_quantity\n",
    "\n",
    "            # document total portfolio value on that day\n",
    "            daily_totals.append(np.dot(hist_prices_small[num_day], coin_amts))\n",
    "\n",
    "        # Document important features of the sims\n",
    "        end_price_HODL = hodl_sims[len(hodl_sims)-1, num]\n",
    "        end_price_rebalanced = daily_totals[len(daily_totals)-1]\n",
    "        sim_summary[num] = [col, fees, trade_count, end_price_HODL, end_price_rebalanced]\n",
    "        rebalance_sims[num] = daily_totals\n",
    "\n",
    "    rebalance_sims = pd.DataFrame(np.transpose(rebalance_sims), columns=cols, index=sim_dates)\n",
    "    rebalance_sims.to_csv('data/rebalanced.csv')\n",
    "\n",
    "    sim_summary = pd.DataFrame(sim_summary,columns=['portfolio','fees','num_trades','HODL','rebalanced'])\n",
    "    sim_summary.to_csv('data/summary.csv', index=False)\n"
   ]
  },
  {
   "cell_type": "markdown",
   "metadata": {},
   "source": [
    "Simulation"
   ]
  },
  {
   "cell_type": "code",
   "execution_count": 42,
   "metadata": {},
   "outputs": [
    {
     "name": "stdout",
     "output_type": "stream",
     "text": [
      "Simulating HODL of 5 coins...\n",
      "Finished\n",
      "\n",
      "Simulating rebalance of 5 coins...\n",
      "Finished\n"
     ]
    }
   ],
   "source": [
    "hist_prices = pd.read_csv('data/historical_prices.csv')\n",
    "\n",
    "sim_dates = list(hist_prices['date'])\n",
    "coins = hist_prices.columns.tolist()[1:]\n",
    "\n",
    "# Exclude date column from historical prices\n",
    "hist_prices = np.array(hist_prices[coins])\n",
    "\n",
    "# get date ranges used for sims\n",
    "hist_cap = pd.read_csv('data/historical_market_cap.csv')\n",
    "hist_cap = np.array(hist_cap)\n",
    "\n",
    "start_dates = hist_cap[:len(hist_cap) - 365]\n",
    "end_dates = hist_cap[365:]\n",
    "\n",
    "# Subtract the ending market caps from each other, located in the 4th column\n",
    "cap_diffs = list(end_dates[:, 3] - start_dates[:, 3])\n",
    "\n",
    "# Make sure there's an odd number of dates, so the median value can be indexed\n",
    "if len(cap_diffs) % 2 == 0:\n",
    "    cap_diffs.pop(len(cap_diffs)-1)\n",
    "\n",
    "# Start date for sims\n",
    "start_date = cap_diffs.index(np.median(cap_diffs))\n",
    "\n",
    "# Limit dataframe dates to the date range\n",
    "hist_prices = hist_prices[start_date:start_date + 365]\n",
    "sim_dates = sim_dates[start_date:start_date + 365]\n",
    "\n",
    "# Retrieve all current tickers on exchange\n",
    "exchange = ccxt.bittrex()\n",
    "tickers = set()\n",
    "[tickers.add(ticker) for ticker in exchange.fetch_tickers()]\n",
    "\n",
    "# Start with $5000 of Bitcoin at day 0 price\n",
    "start_amt = 5000\n",
    "num_coins = 5\n",
    "\n",
    "print('Simulating HODL of {} coins...'.format(num_coins))\n",
    "df = simulate_HODL(num_coins)\n",
    "print('Finished\\n')\n",
    "print('Simulating rebalance of {} coins...'.format(num_coins))\n",
    "simulate_rebalance(num_coins, df)\n",
    "print('Finished')"
   ]
  },
  {
   "cell_type": "code",
   "execution_count": 43,
   "metadata": {},
   "outputs": [
    {
     "name": "stdout",
     "output_type": "stream",
     "text": [
      "Coins used in analysis\n",
      "\n",
      " ['BTC', 'WAVES', 'NEOS', 'BLK', 'POT', 'STRAT', 'AUR', 'NAV', 'VIA', 'VTC', 'PPC', 'CURE', 'NXT', 'GRC', 'NEO', 'DASH', 'MONA', 'AEON', 'STEEM', 'LTC', 'XCP', 'CLAM', 'EXP', 'NXS', 'ETH', 'XRP', 'AMP', 'DOGE', 'DCR', 'ENRG', 'BCY', 'REP', 'ETC', 'NLG', 'SYS', 'XLM', 'DGB', 'IOC', 'CLOAK', 'ZEC', 'LSK', 'SLR', 'BURST', 'EMC', 'SBD', 'XMR', 'FTC']\n",
      "\n",
      "\n",
      "Date range of simulation:\n",
      " 01/01/2017 - 09/12/2018\n"
     ]
    }
   ],
   "source": [
    "# DataFrames we've created\n",
    "hist_prices = pd.read_csv('data/historical_prices.csv')\n",
    "hodl_df = pd.read_csv('data/HODL.csv')\n",
    "rebalanced_df = pd.read_csv(os.getcwd()  + '/data/rebalanced.csv')\n",
    "summary_df = pd.read_csv(os.getcwd()  + '/data/summary.csv')\n",
    "\n",
    "# Date range used for simulations\n",
    "start_date, end_date = hist_prices['date'][0], hist_prices['date'][len(hist_prices)-1]\n",
    "start_date = time.strftime('%m/%d/%Y', time.gmtime(start_date))\n",
    "end_date = time.strftime('%m/%d/%Y', time.gmtime(end_date))\n",
    "\n",
    "\n",
    "print('Coins used in analysis\\n\\n', coins)\n",
    "print('\\n\\nDate range of simulation:\\n {} - {}'.format(start_date, end_date)) "
   ]
  },
  {
   "cell_type": "markdown",
   "metadata": {},
   "source": [
    "Remove outliers"
   ]
  },
  {
   "cell_type": "code",
   "execution_count": 61,
   "metadata": {},
   "outputs": [],
   "source": [
    "# Function to only take results within 2 standard deviations\n",
    "def reject_outliers(data, m = 2):\n",
    "    d = np.abs(data - np.median(data))\n",
    "    mdev = np.median(d)\n",
    "    s = d/mdev if mdev else 0\n",
    "    return data[s < m]"
   ]
  },
  {
   "cell_type": "code",
   "execution_count": 68,
   "metadata": {},
   "outputs": [
    {
     "data": {
      "image/png": "[encoded data removed]",
      "text/plain": [
       "<Figure size 1080x288 with 1 Axes>"
      ]
     },
     "metadata": {
      "needs_background": "light"
     },
     "output_type": "display_data"
    },
    {
     "data": {
      "image/png": "[encoded data removed]",
      "text/plain": [
       "<Figure size 1080x288 with 1 Axes>"
      ]
     },
     "metadata": {
      "needs_background": "light"
     },
     "output_type": "display_data"
    }
   ],
   "source": [
    "# DataFrame with all values\n",
    "box_df = []\n",
    "for hodl, rebalanced in zip(df['HODL'], df['rebalanced']):\n",
    "    box_df.append(['HODL', hodl])\n",
    "    box_df.append(['rebalanced', rebalanced])\n",
    "\n",
    "\n",
    "hodl_2sdev = reject_outliers(df['HODL'])\n",
    "rebalanced_2sdev = reject_outliers(df['rebalanced'])\n",
    "\n",
    "# Create dataframe to be used for box plots\n",
    "box_df_2sdev = []\n",
    "for hodl, rebalanced in zip(hodl_2sdev, rebalanced_2sdev):\n",
    "    box_df_2sdev.append(['HODL', hodl])\n",
    "    box_df_2sdev.append(['rebalanced', rebalanced])\n",
    "\n",
    "\n",
    "box_df = pd.DataFrame(box_df, columns=['strategy', 'end_price'])\n",
    "box_df_2sdev = pd.DataFrame(box_df_2sdev, columns=['strategy', 'end_price'])\n",
    "\n",
    "g1 = sns.boxplot(data=box_df, y='strategy', x='end_price', width=0.5)\n",
    "g1.figure.set_size_inches(15,4)\n",
    "g1.set_title('Distribution of ending simulation value - all simulations')\n",
    "plt.show()\n",
    "\n",
    "g2 = sns.boxplot(data=box_df_2sdev, y='strategy', x='end_price', width=0.5)\n",
    "g2.figure.set_size_inches(15,4)\n",
    "g2.set_title('Distribution of ending simulation value - simulations within 2 standard deviations')\n",
    "plt.show()"
   ]
  },
  {
   "cell_type": "code",
   "execution_count": 62,
   "metadata": {},
   "outputs": [
    {
     "name": "stderr",
     "output_type": "stream",
     "text": [
      "C:\\Users\\18047\\Python36\\lib\\site-packages\\sklearn\\ensemble\\forest.py:248: FutureWarning: The default value of n_estimators will change from 10 in version 0.20 to 100 in 0.22.\n",
      "  \"10 in version 0.20 to 100 in 0.22.\", FutureWarning)\n"
     ]
    },
    {
     "data": {
      "image/png": "[encoded data removed]",
      "text/plain": [
       "<Figure size 432x288 with 1 Axes>"
      ]
     },
     "metadata": {
      "needs_background": "light"
     },
     "output_type": "display_data"
    }
   ],
   "source": [
    "# Refresh our datasets\n",
    "hodl_df = pd.read_csv('data/HODL.csv')\n",
    "rebalanced_df = pd.read_csv(os.getcwd()  + '/data/rebalanced.csv')\n",
    "summary_df = pd.read_csv(os.getcwd()  + '/data/summary.csv')\n",
    "hist_prices = pd.read_csv('data/historical_prices.csv')\n",
    "\n",
    "# list of coins used in each portfolio simulation\n",
    "coins = hist_prices.columns[1:].tolist()\n",
    "cols = hodl_df.columns[1:]\n",
    "# For each simulation, make a list of the coins randomly chosen\n",
    "coin_lists = [i.split('-') for i in cols]\n",
    "\n",
    "# Dataframe to compare coin impact on outperforming HODL\n",
    "tree_df = pd.DataFrame(columns=coins)\n",
    "tree_df['beat market'] = (df['rebalanced'] - df['HODL']) / df['HODL']\n",
    "tree_df.loc[tree_df['beat market'] > 0, 'beat market'] = True\n",
    "tree_df.loc[tree_df['beat market'] < 0, 'beat market'] = False\n",
    "\n",
    "# Replace NaN's with False\n",
    "tree_df = tree_df.fillna(False)\n",
    "\n",
    "# Fill Dataframe with coins used for each simulation\n",
    "for i in range(len(coin_lists)):\n",
    "    for coin in coin_lists[i]:\n",
    "        tree_df.loc[i, coin] = True\n",
    "\n",
    "# Feature importance analysis\n",
    "tree = RandomForestClassifier()\n",
    "X = tree_df[coins]\n",
    "Y = tree_df['beat market']\n",
    "tree.fit(X, Y)\n",
    "\n",
    "feature_importance = tree.feature_importances_\n",
    "feature_importance = 100 * (feature_importance / max(feature_importance))\n",
    "temp = feature_importance.tolist()\n",
    "\n",
    "# Take only top 10 features\n",
    "top_feats = sorted(feature_importance,reverse=True)[:10]\n",
    "sorted_features = np.array([temp.index(feat) for feat in top_feats])\n",
    "pos = np.arange(sorted_features.shape[0]) + .5\n",
    "plt.barh(pos, feature_importance[sorted_features], align='center')\n",
    "plt.yticks(pos, X.columns[sorted_features])\n",
    "plt.show()"
   ]
  },
  {
   "cell_type": "code",
   "execution_count": 70,
   "metadata": {},
   "outputs": [
    {
     "data": {
      "text/plain": [
       "beat market\n",
       "False     96\n",
       "True     904\n",
       "Name: beat market, dtype: int64"
      ]
     },
     "execution_count": 70,
     "metadata": {},
     "output_type": "execute_result"
    }
   ],
   "source": [
    "tree_df.groupby('beat market')['beat market'].count()"
   ]
  },
  {
   "cell_type": "code",
   "execution_count": null,
   "metadata": {},
   "outputs": [],
   "source": []
  }
 ],
 "metadata": {
  "kernelspec": {
   "display_name": "Python 3",
   "language": "python",
   "name": "python3"
  },
  "language_info": {
   "codemirror_mode": {
    "name": "ipython",
    "version": 3
   },
   "file_extension": ".py",
   "mimetype": "text/x-python",
   "name": "python",
   "nbconvert_exporter": "python",
   "pygments_lexer": "ipython3",
   "version": "3.6.5"
  }
 },
 "nbformat": 4,
 "nbformat_minor": 2
}
