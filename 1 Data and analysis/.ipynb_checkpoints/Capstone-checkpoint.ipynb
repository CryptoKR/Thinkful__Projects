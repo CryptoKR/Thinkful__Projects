{
 "cells": [
  {
   "cell_type": "markdown",
   "metadata": {},
   "source": [
    "# Introduction\n",
    "\n",
    "This dataset includes several months (and counting) of data on daily trending YouTube videos. Data is is from videos in the United States, with up to 200 listed trending videos per day.\n",
    "\n",
    "Each region’s data is in a separate file. Data includes the video title, channel title, publish time, tags, views, likes and dislikes, description, and comment count.\n",
    "\n",
    "The associated JSON contains the categories for a specific video, which describes the category_id field.\n",
    "\n",
    "---\n"
   ]
  },
  {
   "cell_type": "code",
   "execution_count": 6,
   "metadata": {},
   "outputs": [],
   "source": [
    "import pandas as pd\n",
    "import numpy as np\n",
    "import matplotlib.pyplot as plt\n",
    "from scipy import stats\n",
    "import seaborn as sns\n",
    "import json\n",
    "%matplotlib inline"
   ]
  },
  {
   "cell_type": "code",
   "execution_count": 12,
   "metadata": {},
   "outputs": [],
   "source": [
    "file = \"C:/Users/Carter Carlson/Documents/Thinkful/Large Databases/Youtube/videos.csv\"\n",
    "#file = \"C:/Users/ccarlsjh/Desktop/Important Files/Untitled Folder/Other/videos_small.csv\"\n",
    "df = pd.read_csv(file)"
   ]
  },
  {
   "cell_type": "code",
   "execution_count": 13,
   "metadata": {},
   "outputs": [],
   "source": [
    "file = 'C:/Users/Carter Carlson/Documents/Thinkful/Large Databases/Youtube/category_id.json'\n",
    "#file = \"C:/Users/ccarlsjh/Desktop/Important Files/Untitled Folder/Other/category_id.json\"\n",
    "with open(file) as data_file:\n",
    "    data = json.load(data_file)\n",
    "num_list = []\n",
    "title_list = []\n",
    "for group in data['items']:\n",
    "    num = group['id']\n",
    "    title = group['snippet']['title']\n",
    "    num_list.append(num)\n",
    "    title_list.append(title)"
   ]
  },
  {
   "cell_type": "code",
   "execution_count": 14,
   "metadata": {},
   "outputs": [],
   "source": [
    "cat_id_list = dict(zip(num_list, title_list))\n",
    "df['category_title'] = [cat_id_list[str(i)] for i in df['category_id']]"
   ]
  },
  {
   "cell_type": "code",
   "execution_count": 15,
   "metadata": {},
   "outputs": [
    {
     "data": {
      "text/html": [
       "<div>\n",
       "<style scoped>\n",
       "    .dataframe tbody tr th:only-of-type {\n",
       "        vertical-align: middle;\n",
       "    }\n",
       "\n",
       "    .dataframe tbody tr th {\n",
       "        vertical-align: top;\n",
       "    }\n",
       "\n",
       "    .dataframe thead th {\n",
       "        text-align: right;\n",
       "    }\n",
       "</style>\n",
       "<table border=\"1\" class=\"dataframe\">\n",
       "  <thead>\n",
       "    <tr style=\"text-align: right;\">\n",
       "      <th></th>\n",
       "      <th>views</th>\n",
       "    </tr>\n",
       "    <tr>\n",
       "      <th>category_title</th>\n",
       "      <th></th>\n",
       "    </tr>\n",
       "  </thead>\n",
       "  <tbody>\n",
       "    <tr>\n",
       "      <th>Autos &amp; Vehicles</th>\n",
       "      <td>1.355965</td>\n",
       "    </tr>\n",
       "    <tr>\n",
       "      <th>Comedy</th>\n",
       "      <td>1.400372</td>\n",
       "    </tr>\n",
       "    <tr>\n",
       "      <th>Education</th>\n",
       "      <td>0.650565</td>\n",
       "    </tr>\n",
       "    <tr>\n",
       "      <th>Entertainment</th>\n",
       "      <td>1.874304</td>\n",
       "    </tr>\n",
       "    <tr>\n",
       "      <th>Film &amp; Animation</th>\n",
       "      <td>2.487096</td>\n",
       "    </tr>\n",
       "    <tr>\n",
       "      <th>Gaming</th>\n",
       "      <td>2.012832</td>\n",
       "    </tr>\n",
       "    <tr>\n",
       "      <th>Howto &amp; Style</th>\n",
       "      <td>0.880302</td>\n",
       "    </tr>\n",
       "    <tr>\n",
       "      <th>Music</th>\n",
       "      <td>5.131938</td>\n",
       "    </tr>\n",
       "    <tr>\n",
       "      <th>News &amp; Politics</th>\n",
       "      <td>0.490310</td>\n",
       "    </tr>\n",
       "    <tr>\n",
       "      <th>Nonprofits &amp; Activism</th>\n",
       "      <td>3.462797</td>\n",
       "    </tr>\n",
       "    <tr>\n",
       "      <th>People &amp; Blogs</th>\n",
       "      <td>1.304870</td>\n",
       "    </tr>\n",
       "    <tr>\n",
       "      <th>Pets &amp; Animals</th>\n",
       "      <td>0.657880</td>\n",
       "    </tr>\n",
       "    <tr>\n",
       "      <th>Science &amp; Technology</th>\n",
       "      <td>1.144485</td>\n",
       "    </tr>\n",
       "    <tr>\n",
       "      <th>Shows</th>\n",
       "      <td>0.768210</td>\n",
       "    </tr>\n",
       "    <tr>\n",
       "      <th>Sports</th>\n",
       "      <td>1.919011</td>\n",
       "    </tr>\n",
       "    <tr>\n",
       "      <th>Travel &amp; Events</th>\n",
       "      <td>0.853789</td>\n",
       "    </tr>\n",
       "  </tbody>\n",
       "</table>\n",
       "</div>"
      ],
      "text/plain": [
       "                          views\n",
       "category_title                 \n",
       "Autos & Vehicles       1.355965\n",
       "Comedy                 1.400372\n",
       "Education              0.650565\n",
       "Entertainment          1.874304\n",
       "Film & Animation       2.487096\n",
       "Gaming                 2.012832\n",
       "Howto & Style          0.880302\n",
       "Music                  5.131938\n",
       "News & Politics        0.490310\n",
       "Nonprofits & Activism  3.462797\n",
       "People & Blogs         1.304870\n",
       "Pets & Animals         0.657880\n",
       "Science & Technology   1.144485\n",
       "Shows                  0.768210\n",
       "Sports                 1.919011\n",
       "Travel & Events        0.853789"
      ]
     },
     "execution_count": 15,
     "metadata": {},
     "output_type": "execute_result"
    }
   ],
   "source": [
    "# average views\n",
    "avg_views = df.groupby('category_title')[['category_title','views']].mean()/1000000\n",
    "avg_views"
   ]
  },
  {
   "cell_type": "code",
   "execution_count": 16,
   "metadata": {},
   "outputs": [],
   "source": [
    "# All category titles with mean views > 1 million\n",
    "# NOTE - way to do this dynamically?  I want to create a df that only includes videos if their \n",
    "# category title has mean_views > 1 million\n",
    "\n",
    "top_titles = []"
   ]
  },
  {
   "cell_type": "code",
   "execution_count": 17,
   "metadata": {},
   "outputs": [],
   "source": [
    "# Music, Film & Animation, Science & Technology, Comedy\n",
    "top_titles = ['Music', 'Film & Animation', 'Science & Technology', 'Comedy']\n",
    "df1 = df.loc[df['category_title'].isin(top_titles)]"
   ]
  },
  {
   "cell_type": "code",
   "execution_count": 18,
   "metadata": {},
   "outputs": [
    {
     "data": {
      "text/plain": [
       "2                   Comedy\n",
       "5     Science & Technology\n",
       "7     Science & Technology\n",
       "8         Film & Animation\n",
       "12                   Music\n",
       "15    Science & Technology\n",
       "16                  Comedy\n",
       "18    Science & Technology\n",
       "21    Science & Technology\n",
       "24                  Comedy\n",
       "Name: category_title, dtype: object"
      ]
     },
     "execution_count": 18,
     "metadata": {},
     "output_type": "execute_result"
    }
   ],
   "source": [
    "df1['category_title'][:10]"
   ]
  },
  {
   "cell_type": "code",
   "execution_count": 20,
   "metadata": {},
   "outputs": [
    {
     "data": {
      "text/plain": [
       "category_title\n",
       "Comedy                  43.128701\n",
       "Film & Animation        23.519180\n",
       "Music                   36.882082\n",
       "Science & Technology    25.739061\n",
       "dtype: float64"
      ]
     },
     "execution_count": 20,
     "metadata": {},
     "output_type": "execute_result"
    }
   ],
   "source": [
    "views = df1.groupby('category_title')['views'].mean()\n",
    "likes = df1.groupby('category_title')['likes'].mean()\n",
    "likes/views * 1000 # likes per 1,000 views"
   ]
  },
  {
   "cell_type": "code",
   "execution_count": 21,
   "metadata": {},
   "outputs": [
    {
     "data": {
      "text/plain": [
       "category_title\n",
       "Comedy                  1.422669\n",
       "Film & Animation        0.925723\n",
       "Music                   1.314244\n",
       "Science & Technology    1.285546\n",
       "dtype: float64"
      ]
     },
     "execution_count": 21,
     "metadata": {},
     "output_type": "execute_result"
    }
   ],
   "source": [
    "dislikes = df1.groupby('category_title')['dislikes'].mean()\n",
    "dislikes/views * 1000 # dislikes per 1,000 views"
   ]
  },
  {
   "cell_type": "code",
   "execution_count": 22,
   "metadata": {},
   "outputs": [
    {
     "data": {
      "text/plain": [
       "category_title\n",
       "Comedy                  96.7\n",
       "Film & Animation        96.1\n",
       "Music                   96.4\n",
       "Science & Technology    95.0\n",
       "dtype: float64"
      ]
     },
     "execution_count": 22,
     "metadata": {},
     "output_type": "execute_result"
    }
   ],
   "source": [
    "round((1-dislikes/likes) * 100,1) #average ratings "
   ]
  },
  {
   "cell_type": "markdown",
   "metadata": {},
   "source": [
    "Hypothesis - disabling comments will change the overall likes and dislikes of a video.\n",
    "\n",
    "- enabling/disabling comments probably doesn't have an impact on views.  People don't know if a video has comments enabled before viewing, so it shouldn't impact views in that sense.  It may impact views if people come back multiple times to comment on the same thread... sharing the video shouldn't change much whether there's comments or not\n",
    "\n",
    "Test - "
   ]
  },
  {
   "cell_type": "markdown",
   "metadata": {},
   "source": [
    "Does disabling comments lead to disabling reviews or video removal?"
   ]
  }
 ],
 "metadata": {
  "kernelspec": {
   "display_name": "Python 3",
   "language": "python",
   "name": "python3"
  },
  "language_info": {
   "codemirror_mode": {
    "name": "ipython",
    "version": 3
   },
   "file_extension": ".py",
   "mimetype": "text/x-python",
   "name": "python",
   "nbconvert_exporter": "python",
   "pygments_lexer": "ipython3",
   "version": "3.6.4"
  }
 },
 "nbformat": 4,
 "nbformat_minor": 2
}
