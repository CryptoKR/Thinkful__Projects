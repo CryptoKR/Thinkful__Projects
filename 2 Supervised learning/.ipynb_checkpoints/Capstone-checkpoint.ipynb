{
 "cells": [
  {
   "cell_type": "markdown",
   "metadata": {},
   "source": [
    "# Capstone Presentation\n",
    "\n",
    "---\n",
    "\n",
    "Project Requirements:\n",
    "* A specified research question that my model addresses\n",
    "* How I chose my model specification and what alternatives I compared it to\n",
    "* The practical uses of my model for an audience of interest\n",
    "* Any weak points or shortcomings of my model\n",
    "\n",
    "---\n",
    "\n",
    "### [Dataset](https://www.kaggle.com/joniarroba/noshowappointments/home)\n",
    "\n",
    "### Context\n",
    "A person makes a doctor appointment, receives all the instructions and is a no show.  Is it possible to predict someone to no-show an appointment?"
   ]
  },
  {
   "cell_type": "code",
   "execution_count": 1,
   "metadata": {},
   "outputs": [],
   "source": [
    "import numpy as np\n",
    "import pandas as pd\n",
    "import matplotlib.pyplot as plt\n",
    "import sklearn\n",
    "from sklearn.model_selection import cross_val_score\n",
    "from datetime import datetime\n",
    "\n",
    "import seaborn as sns\n",
    "sns.set_style('white')"
   ]
  },
  {
   "cell_type": "code",
   "execution_count": 171,
   "metadata": {},
   "outputs": [
    {
     "name": "stdout",
     "output_type": "stream",
     "text": [
      "# of Records:  110527\n"
     ]
    },
    {
     "data": {
      "text/html": [
       "<div>\n",
       "<style scoped>\n",
       "    .dataframe tbody tr th:only-of-type {\n",
       "        vertical-align: middle;\n",
       "    }\n",
       "\n",
       "    .dataframe tbody tr th {\n",
       "        vertical-align: top;\n",
       "    }\n",
       "\n",
       "    .dataframe thead th {\n",
       "        text-align: right;\n",
       "    }\n",
       "</style>\n",
       "<table border=\"1\" class=\"dataframe\">\n",
       "  <thead>\n",
       "    <tr style=\"text-align: right;\">\n",
       "      <th></th>\n",
       "      <th>PatientId</th>\n",
       "      <th>AppointmentID</th>\n",
       "      <th>Gender</th>\n",
       "      <th>ScheduledDay</th>\n",
       "      <th>AppointmentDay</th>\n",
       "      <th>Age</th>\n",
       "      <th>Neighbourhood</th>\n",
       "      <th>Scholarship</th>\n",
       "      <th>Hipertension</th>\n",
       "      <th>Diabetes</th>\n",
       "      <th>Alcoholism</th>\n",
       "      <th>Handcap</th>\n",
       "      <th>SMS_received</th>\n",
       "      <th>No-show</th>\n",
       "    </tr>\n",
       "  </thead>\n",
       "  <tbody>\n",
       "    <tr>\n",
       "      <th>0</th>\n",
       "      <td>2.987250e+13</td>\n",
       "      <td>5642903</td>\n",
       "      <td>F</td>\n",
       "      <td>2016-04-29T18:38:08Z</td>\n",
       "      <td>2016-04-29T00:00:00Z</td>\n",
       "      <td>62</td>\n",
       "      <td>JARDIM DA PENHA</td>\n",
       "      <td>0</td>\n",
       "      <td>1</td>\n",
       "      <td>0</td>\n",
       "      <td>0</td>\n",
       "      <td>0</td>\n",
       "      <td>0</td>\n",
       "      <td>No</td>\n",
       "    </tr>\n",
       "    <tr>\n",
       "      <th>1</th>\n",
       "      <td>5.589978e+14</td>\n",
       "      <td>5642503</td>\n",
       "      <td>M</td>\n",
       "      <td>2016-04-29T16:08:27Z</td>\n",
       "      <td>2016-04-29T00:00:00Z</td>\n",
       "      <td>56</td>\n",
       "      <td>JARDIM DA PENHA</td>\n",
       "      <td>0</td>\n",
       "      <td>0</td>\n",
       "      <td>0</td>\n",
       "      <td>0</td>\n",
       "      <td>0</td>\n",
       "      <td>0</td>\n",
       "      <td>No</td>\n",
       "    </tr>\n",
       "    <tr>\n",
       "      <th>2</th>\n",
       "      <td>4.262962e+12</td>\n",
       "      <td>5642549</td>\n",
       "      <td>F</td>\n",
       "      <td>2016-04-29T16:19:04Z</td>\n",
       "      <td>2016-04-29T00:00:00Z</td>\n",
       "      <td>62</td>\n",
       "      <td>MATA DA PRAIA</td>\n",
       "      <td>0</td>\n",
       "      <td>0</td>\n",
       "      <td>0</td>\n",
       "      <td>0</td>\n",
       "      <td>0</td>\n",
       "      <td>0</td>\n",
       "      <td>No</td>\n",
       "    </tr>\n",
       "    <tr>\n",
       "      <th>3</th>\n",
       "      <td>8.679512e+11</td>\n",
       "      <td>5642828</td>\n",
       "      <td>F</td>\n",
       "      <td>2016-04-29T17:29:31Z</td>\n",
       "      <td>2016-04-29T00:00:00Z</td>\n",
       "      <td>8</td>\n",
       "      <td>PONTAL DE CAMBURI</td>\n",
       "      <td>0</td>\n",
       "      <td>0</td>\n",
       "      <td>0</td>\n",
       "      <td>0</td>\n",
       "      <td>0</td>\n",
       "      <td>0</td>\n",
       "      <td>No</td>\n",
       "    </tr>\n",
       "    <tr>\n",
       "      <th>4</th>\n",
       "      <td>8.841186e+12</td>\n",
       "      <td>5642494</td>\n",
       "      <td>F</td>\n",
       "      <td>2016-04-29T16:07:23Z</td>\n",
       "      <td>2016-04-29T00:00:00Z</td>\n",
       "      <td>56</td>\n",
       "      <td>JARDIM DA PENHA</td>\n",
       "      <td>0</td>\n",
       "      <td>1</td>\n",
       "      <td>1</td>\n",
       "      <td>0</td>\n",
       "      <td>0</td>\n",
       "      <td>0</td>\n",
       "      <td>No</td>\n",
       "    </tr>\n",
       "  </tbody>\n",
       "</table>\n",
       "</div>"
      ],
      "text/plain": [
       "      PatientId  AppointmentID Gender          ScheduledDay  \\\n",
       "0  2.987250e+13        5642903      F  2016-04-29T18:38:08Z   \n",
       "1  5.589978e+14        5642503      M  2016-04-29T16:08:27Z   \n",
       "2  4.262962e+12        5642549      F  2016-04-29T16:19:04Z   \n",
       "3  8.679512e+11        5642828      F  2016-04-29T17:29:31Z   \n",
       "4  8.841186e+12        5642494      F  2016-04-29T16:07:23Z   \n",
       "\n",
       "         AppointmentDay  Age      Neighbourhood  Scholarship  Hipertension  \\\n",
       "0  2016-04-29T00:00:00Z   62    JARDIM DA PENHA            0             1   \n",
       "1  2016-04-29T00:00:00Z   56    JARDIM DA PENHA            0             0   \n",
       "2  2016-04-29T00:00:00Z   62      MATA DA PRAIA            0             0   \n",
       "3  2016-04-29T00:00:00Z    8  PONTAL DE CAMBURI            0             0   \n",
       "4  2016-04-29T00:00:00Z   56    JARDIM DA PENHA            0             1   \n",
       "\n",
       "   Diabetes  Alcoholism  Handcap  SMS_received No-show  \n",
       "0         0           0        0             0      No  \n",
       "1         0           0        0             0      No  \n",
       "2         0           0        0             0      No  \n",
       "3         0           0        0             0      No  \n",
       "4         1           0        0             0      No  "
      ]
     },
     "execution_count": 171,
     "metadata": {},
     "output_type": "execute_result"
    }
   ],
   "source": [
    "try:\n",
    "    file = 'C:/Users/Carter Carlson/Documents/Thinkful/Large Databases/No show dr appt.csv'\n",
    "    df = pd.read_csv(file)\n",
    "except:\n",
    "    file = 'C:/Users/18047/Downloads/KaggleV2-May-2016.csv'\n",
    "    df = pd.read_csv(file)\n",
    "\n",
    "print('# of Records: ', len(df))\n",
    "df.head()"
   ]
  },
  {
   "cell_type": "code",
   "execution_count": 172,
   "metadata": {},
   "outputs": [],
   "source": [
    "# Data cleansing/adding features\n",
    "\n",
    "df = df.drop(['AppointmentID', 'Neighbourhood'], 1)\n",
    "df = df.rename(columns={'Gender':'IsFemale'})\n",
    "\n",
    "df['ScheduledDay'] = df['ScheduledDay'].str[:10]\n",
    "df['AppointmentDay'] = df['AppointmentDay'].str[:10]\n",
    "\n",
    "df['ScheduledDay'] = pd.to_datetime(df['ScheduledDay'])\n",
    "df['AppointmentDay'] = pd.to_datetime(df['AppointmentDay'])\n",
    "\n",
    "# Create new features\n",
    "df['DaysBeforeAppt'] = abs(df['ScheduledDay'] - df['AppointmentDay']).dt.days\n",
    "df['ScheduledSameDay'] = (df['DaysBeforeAppt'] == 0)\n",
    "df['VeryHealthy'] = ((df['Hipertension'] + df['Diabetes'] + df['Alcoholism'] + df['Handcap']) == 0)\n",
    "df['VeryUnhealthy'] = ((df['Hipertension'] + df['Diabetes'] + df['Alcoholism'] + df['Handcap']) >= 2)\n",
    "\n",
    "# Convert columns to boolean\n",
    "cols_to_convert = ['Scholarship', 'Hipertension', 'Diabetes', 'Alcoholism', 'Handcap', 'SMS_received']\n",
    "for col in cols_to_convert:\n",
    "    df[col] = (df[col] > 0)\n",
    "\n",
    "df['IsFemale'] = (df['IsFemale'] == \"F\")\n",
    "df['No-show'] = (df['No-show'] != \"No\")\n",
    "\n",
    "# correlation between features - some features are probably correlated, so we can drop one\n",
    "# pick two features then apply logistic regression\n",
    "# Then stick with gaussian, then random forest\n",
    "# With random forest analyze the most important features\n",
    "# a. Confusion matrix with all algorithms\n",
    "# b. Classification report for each\n",
    "# c. Roc curve\n",
    "\n",
    "# Then conclude which is best"
   ]
  },
  {
   "cell_type": "markdown",
   "metadata": {},
   "source": [
    "---\n",
    "## Correlation Analysis"
   ]
  },
  {
   "cell_type": "code",
   "execution_count": 167,
   "metadata": {},
   "outputs": [
    {
     "data": {
      "image/png": "[encoded data removed]",
      "text/plain": [
       "<Figure size 432x288 with 2 Axes>"
      ]
     },
     "metadata": {},
     "output_type": "display_data"
    }
   ],
   "source": [
    "X = df[['DaysBeforeAppt', 'ScheduledSameDay', 'VeryHealthy', 'VeryUnhealthy', 'IsFemale', 'SMS_received', 'Scholarship']]\n",
    "Y = df['No-show']\n",
    "\n",
    "correlations = X.corr()\n",
    "\n",
    "sns.heatmap(correlations, vmax=.8, square=True)\n",
    "plt.show()"
   ]
  },
  {
   "cell_type": "markdown",
   "metadata": {},
   "source": [
    "### Negative Correlations\n",
    "\n",
    "I'm not surprised veryhealthy and veryunhealthy have strong negative correlations to each other.  I'll remove one of the columns.\n",
    "\n",
    "Also, ScheduledSameDay and DaysScheduledInAdvance unsurprisingly have negative correlations.  I'll remove ScheduledSameDay\n",
    "    so I can keep using a continuous variable"
   ]
  },
  {
   "cell_type": "code",
   "execution_count": 173,
   "metadata": {},
   "outputs": [],
   "source": [
    "df = df.drop(['VeryHealthy','ScheduledSameDay'], 1)"
   ]
  },
  {
   "cell_type": "markdown",
   "metadata": {},
   "source": [
    "There's a strong negative correlation between ScheduledSameDay and SMS_received, which probably means people only receive a text if they schedule at least a day before their appointment.  I decided to look into it:"
   ]
  },
  {
   "cell_type": "code",
   "execution_count": 169,
   "metadata": {},
   "outputs": [
    {
     "data": {
      "text/html": [
       "<div>\n",
       "<style scoped>\n",
       "    .dataframe tbody tr th:only-of-type {\n",
       "        vertical-align: middle;\n",
       "    }\n",
       "\n",
       "    .dataframe tbody tr th {\n",
       "        vertical-align: top;\n",
       "    }\n",
       "\n",
       "    .dataframe thead th {\n",
       "        text-align: right;\n",
       "    }\n",
       "</style>\n",
       "<table border=\"1\" class=\"dataframe\">\n",
       "  <thead>\n",
       "    <tr style=\"text-align: right;\">\n",
       "      <th></th>\n",
       "      <th>Days before appt</th>\n",
       "      <th>Appts scheduled</th>\n",
       "      <th>Texts received</th>\n",
       "    </tr>\n",
       "  </thead>\n",
       "  <tbody>\n",
       "    <tr>\n",
       "      <th>0</th>\n",
       "      <td>0</td>\n",
       "      <td>38563</td>\n",
       "      <td>0</td>\n",
       "    </tr>\n",
       "    <tr>\n",
       "      <th>1</th>\n",
       "      <td>1</td>\n",
       "      <td>5217</td>\n",
       "      <td>0</td>\n",
       "    </tr>\n",
       "    <tr>\n",
       "      <th>2</th>\n",
       "      <td>2</td>\n",
       "      <td>6725</td>\n",
       "      <td>0</td>\n",
       "    </tr>\n",
       "    <tr>\n",
       "      <th>3</th>\n",
       "      <td>3</td>\n",
       "      <td>2737</td>\n",
       "      <td>906</td>\n",
       "    </tr>\n",
       "    <tr>\n",
       "      <th>4</th>\n",
       "      <td>4</td>\n",
       "      <td>5290</td>\n",
       "      <td>3054</td>\n",
       "    </tr>\n",
       "    <tr>\n",
       "      <th>5</th>\n",
       "      <td>5</td>\n",
       "      <td>3277</td>\n",
       "      <td>2054</td>\n",
       "    </tr>\n",
       "  </tbody>\n",
       "</table>\n",
       "</div>"
      ],
      "text/plain": [
       "   Days before appt  Appts scheduled  Texts received\n",
       "0                 0            38563               0\n",
       "1                 1             5217               0\n",
       "2                 2             6725               0\n",
       "3                 3             2737             906\n",
       "4                 4             5290            3054\n",
       "5                 5             3277            2054"
      ]
     },
     "execution_count": 169,
     "metadata": {},
     "output_type": "execute_result"
    }
   ],
   "source": [
    "num_days = []\n",
    "num_appts = []\n",
    "num_texts = []\n",
    "\n",
    "for i in range(0,6):    \n",
    "    num_days.append(i)\n",
    "    num_appts.append(df[df['DaysBeforeAppt'] == i].count()['DaysBeforeAppt'])\n",
    "    num_texts.append(df[(df['DaysBeforeAppt'] == i) & (df['SMS_received'] == True)].count()['SMS_received'])\n",
    "\n",
    "pd.DataFrame(\n",
    "    {'Days before appt': num_days,\n",
    "     'Appts scheduled': num_appts,\n",
    "     'Texts received': num_texts\n",
    "    })"
   ]
  },
  {
   "cell_type": "markdown",
   "metadata": {},
   "source": [
    "### Positive Correlations\n",
    "\n",
    "Going back to the heatmap, there is a strong positive correlation between SMS_received and DaysBeforeAppt.  The table above shows that text reminders would only be sent if the patient scheduled at least 3 days in advance, which explains the correlation, so I'll also remove SMS_received as a feature.  On a side note, I think it's interesting that not everyone who schedules in advance will receive a text.\n",
    "\n",
    "I'll add a feature to show the total number of texts a patient received in proportion to their number of appts."
   ]
  },
  {
   "cell_type": "code",
   "execution_count": 174,
   "metadata": {
    "scrolled": true
   },
   "outputs": [],
   "source": [
    "texts_by_patient = df[df['SMS_received'] == 1].groupby('PatientId').count()\n",
    "appts_by_patient = df.groupby('PatientId').count()\n",
    "\n",
    "texts_by_patient = texts_by_patient.reset_index()\n",
    "appts_by_patient = appts_by_patient.reset_index()\n",
    "\n",
    "texts_by_patient = texts_by_patient[['PatientId', 'IsFemale']]\n",
    "appts_by_patient = appts_by_patient[['PatientId', 'IsFemale']]\n",
    "\n",
    "texts_by_patient = texts_by_patient.rename(columns={'IsFemale': 'NumTextsReceived'})\n",
    "appts_by_patient = appts_by_patient.rename(columns={'IsFemale': 'NumAppts'})\n",
    "\n",
    "df = pd.merge(df, texts_by_patient, on='PatientId')\n",
    "df = pd.merge(df, appts_by_patient, on='PatientId')\n",
    "\n",
    "df = df.dropna(0)\n",
    "\n",
    "# Note: how to do division without doing all this work to two separate lists?  \n",
    "df['TextsToAppts'] = df['NumTextsReceived'] / df['NumAppts']\n",
    "df = df.drop(['NumTextsReceived', 'NumAppts'], 1)"
   ]
  },
  {
   "cell_type": "code",
   "execution_count": 175,
   "metadata": {},
   "outputs": [
    {
     "data": {
      "image/png": "[encoded data removed]",
      "text/plain": [
       "<Figure size 432x288 with 2 Axes>"
      ]
     },
     "metadata": {},
     "output_type": "display_data"
    }
   ],
   "source": [
    "X = df[['DaysBeforeAppt', 'VeryUnhealthy', 'IsFemale', 'Scholarship', 'TextsToAppts']]\n",
    "\n",
    "correlations = X.corr()\n",
    "\n",
    "sns.heatmap(correlations, vmax=.8, square=True)\n",
    "plt.show()"
   ]
  },
  {
   "cell_type": "markdown",
   "metadata": {},
   "source": [
    "Much better!\n",
    "\n",
    "---"
   ]
  },
  {
   "cell_type": "code",
   "execution_count": null,
   "metadata": {},
   "outputs": [],
   "source": [
    "from sklearn.naive_bayes import GaussianNB\n",
    "\n",
    "gnb = GaussianNB()\n",
    "gnb.fit(X, Y)\n",
    "cross_val_score(gnb, X, Y, cv=5)"
   ]
  },
  {
   "cell_type": "code",
   "execution_count": 15,
   "metadata": {},
   "outputs": [
    {
     "data": {
      "text/plain": [
       "array([0.74884647, 0.73794445, 0.68881752, 0.74096358, 0.69679696])"
      ]
     },
     "execution_count": 15,
     "metadata": {},
     "output_type": "execute_result"
    }
   ],
   "source": [
    "from sklearn.naive_bayes import GaussianNB\n",
    "\n",
    "gnb = GaussianNB()\n",
    "gnb.fit(X, Y)\n",
    "cross_val_score(gnb, X, Y, cv=5)"
   ]
  },
  {
   "cell_type": "code",
   "execution_count": 16,
   "metadata": {},
   "outputs": [
    {
     "data": {
      "text/plain": [
       "array([0.79028318, 0.78603094, 0.72808287, 0.79013798, 0.78551393])"
      ]
     },
     "execution_count": 16,
     "metadata": {},
     "output_type": "execute_result"
    }
   ],
   "source": [
    "from sklearn.naive_bayes import BernoulliNB\n",
    "\n",
    "bnb = BernoulliNB()\n",
    "bnb.fit(X, Y)\n",
    "cross_val_score(bnb, X, Y, cv=5)"
   ]
  },
  {
   "cell_type": "code",
   "execution_count": 17,
   "metadata": {},
   "outputs": [
    {
     "data": {
      "text/plain": [
       "array([0.79399258, 0.79209264, 0.78209536, 0.79470708, 0.79429063])"
      ]
     },
     "execution_count": 17,
     "metadata": {},
     "output_type": "execute_result"
    }
   ],
   "source": [
    "from sklearn.ensemble import RandomForestClassifier\n",
    "# Play with parameters\n",
    "tree = RandomForestClassifier()\n",
    "tree.fit(X, Y)\n",
    "cross_val_score(tree, X, Y, cv=5)"
   ]
  },
  {
   "cell_type": "code",
   "execution_count": 72,
   "metadata": {},
   "outputs": [
    {
     "data": {
      "text/plain": [
       "array([0.75857233, 0.75676287, 0.75002262, 0.74295408, 0.7580076 ])"
      ]
     },
     "execution_count": 72,
     "metadata": {},
     "output_type": "execute_result"
    }
   ],
   "source": [
    "from sklearn.neighbors import KNeighborsClassifier\n",
    "knn = KNeighborsClassifier()\n",
    "knn.fit(X, Y)\n",
    "cross_val_score(knn, X, Y, cv=5)"
   ]
  }
 ],
 "metadata": {
  "kernelspec": {
   "display_name": "Python 3",
   "language": "python",
   "name": "python3"
  },
  "language_info": {
   "codemirror_mode": {
    "name": "ipython",
    "version": 3
   },
   "file_extension": ".py",
   "mimetype": "text/x-python",
   "name": "python",
   "nbconvert_exporter": "python",
   "pygments_lexer": "ipython3",
   "version": "3.6.5"
  }
 },
 "nbformat": 4,
 "nbformat_minor": 2
}
