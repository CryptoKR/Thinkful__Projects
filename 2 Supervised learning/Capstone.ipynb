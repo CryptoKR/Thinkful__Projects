{
 "cells": [
  {
   "cell_type": "markdown",
   "metadata": {},
   "source": [
    "# Capstone Presentation\n",
    "\n",
    "---\n",
    "\n",
    "Project Requirements:\n",
    "* A specified research question that my model addresses\n",
    "* How I chose my model specification and what alternatives I compared it to\n",
    "* The practical uses of my model for an audience of interest\n",
    "* Any weak points or shortcomings of my model\n",
    "\n",
    "---\n",
    "\n",
    "### [Dataset](https://www.kaggle.com/joniarroba/noshowappointments/home)\n",
    "\n",
    "### Context\n",
    "A person makes a doctor appointment, receives all the instructions and is a no show.  Is it possible to predict someone to no-show an appointment?"
   ]
  },
  {
   "cell_type": "code",
   "execution_count": 1,
   "metadata": {},
   "outputs": [],
   "source": [
    "import numpy as np\n",
    "import pandas as pd\n",
    "import matplotlib.pyplot as plt\n",
    "import sklearn\n",
    "from sklearn.model_selection import cross_val_score\n",
    "from datetime import datetime\n",
    "\n",
    "import seaborn as sns\n",
    "sns.set_style('white')"
   ]
  },
  {
   "cell_type": "code",
   "execution_count": 2,
   "metadata": {},
   "outputs": [
    {
     "name": "stdout",
     "output_type": "stream",
     "text": [
      "# of Records:  110527\n"
     ]
    },
    {
     "data": {
      "text/html": [
       "<div>\n",
       "<style scoped>\n",
       "    .dataframe tbody tr th:only-of-type {\n",
       "        vertical-align: middle;\n",
       "    }\n",
       "\n",
       "    .dataframe tbody tr th {\n",
       "        vertical-align: top;\n",
       "    }\n",
       "\n",
       "    .dataframe thead th {\n",
       "        text-align: right;\n",
       "    }\n",
       "</style>\n",
       "<table border=\"1\" class=\"dataframe\">\n",
       "  <thead>\n",
       "    <tr style=\"text-align: right;\">\n",
       "      <th></th>\n",
       "      <th>PatientId</th>\n",
       "      <th>AppointmentID</th>\n",
       "      <th>Gender</th>\n",
       "      <th>ScheduledDay</th>\n",
       "      <th>AppointmentDay</th>\n",
       "      <th>Age</th>\n",
       "      <th>Neighbourhood</th>\n",
       "      <th>Scholarship</th>\n",
       "      <th>Hipertension</th>\n",
       "      <th>Diabetes</th>\n",
       "      <th>Alcoholism</th>\n",
       "      <th>Handcap</th>\n",
       "      <th>SMS_received</th>\n",
       "      <th>No-show</th>\n",
       "    </tr>\n",
       "  </thead>\n",
       "  <tbody>\n",
       "    <tr>\n",
       "      <th>0</th>\n",
       "      <td>2.987250e+13</td>\n",
       "      <td>5642903</td>\n",
       "      <td>F</td>\n",
       "      <td>2016-04-29T18:38:08Z</td>\n",
       "      <td>2016-04-29T00:00:00Z</td>\n",
       "      <td>62</td>\n",
       "      <td>JARDIM DA PENHA</td>\n",
       "      <td>0</td>\n",
       "      <td>1</td>\n",
       "      <td>0</td>\n",
       "      <td>0</td>\n",
       "      <td>0</td>\n",
       "      <td>0</td>\n",
       "      <td>No</td>\n",
       "    </tr>\n",
       "    <tr>\n",
       "      <th>1</th>\n",
       "      <td>5.589978e+14</td>\n",
       "      <td>5642503</td>\n",
       "      <td>M</td>\n",
       "      <td>2016-04-29T16:08:27Z</td>\n",
       "      <td>2016-04-29T00:00:00Z</td>\n",
       "      <td>56</td>\n",
       "      <td>JARDIM DA PENHA</td>\n",
       "      <td>0</td>\n",
       "      <td>0</td>\n",
       "      <td>0</td>\n",
       "      <td>0</td>\n",
       "      <td>0</td>\n",
       "      <td>0</td>\n",
       "      <td>No</td>\n",
       "    </tr>\n",
       "    <tr>\n",
       "      <th>2</th>\n",
       "      <td>4.262962e+12</td>\n",
       "      <td>5642549</td>\n",
       "      <td>F</td>\n",
       "      <td>2016-04-29T16:19:04Z</td>\n",
       "      <td>2016-04-29T00:00:00Z</td>\n",
       "      <td>62</td>\n",
       "      <td>MATA DA PRAIA</td>\n",
       "      <td>0</td>\n",
       "      <td>0</td>\n",
       "      <td>0</td>\n",
       "      <td>0</td>\n",
       "      <td>0</td>\n",
       "      <td>0</td>\n",
       "      <td>No</td>\n",
       "    </tr>\n",
       "    <tr>\n",
       "      <th>3</th>\n",
       "      <td>8.679512e+11</td>\n",
       "      <td>5642828</td>\n",
       "      <td>F</td>\n",
       "      <td>2016-04-29T17:29:31Z</td>\n",
       "      <td>2016-04-29T00:00:00Z</td>\n",
       "      <td>8</td>\n",
       "      <td>PONTAL DE CAMBURI</td>\n",
       "      <td>0</td>\n",
       "      <td>0</td>\n",
       "      <td>0</td>\n",
       "      <td>0</td>\n",
       "      <td>0</td>\n",
       "      <td>0</td>\n",
       "      <td>No</td>\n",
       "    </tr>\n",
       "    <tr>\n",
       "      <th>4</th>\n",
       "      <td>8.841186e+12</td>\n",
       "      <td>5642494</td>\n",
       "      <td>F</td>\n",
       "      <td>2016-04-29T16:07:23Z</td>\n",
       "      <td>2016-04-29T00:00:00Z</td>\n",
       "      <td>56</td>\n",
       "      <td>JARDIM DA PENHA</td>\n",
       "      <td>0</td>\n",
       "      <td>1</td>\n",
       "      <td>1</td>\n",
       "      <td>0</td>\n",
       "      <td>0</td>\n",
       "      <td>0</td>\n",
       "      <td>No</td>\n",
       "    </tr>\n",
       "  </tbody>\n",
       "</table>\n",
       "</div>"
      ],
      "text/plain": [
       "      PatientId  AppointmentID Gender          ScheduledDay  \\\n",
       "0  2.987250e+13        5642903      F  2016-04-29T18:38:08Z   \n",
       "1  5.589978e+14        5642503      M  2016-04-29T16:08:27Z   \n",
       "2  4.262962e+12        5642549      F  2016-04-29T16:19:04Z   \n",
       "3  8.679512e+11        5642828      F  2016-04-29T17:29:31Z   \n",
       "4  8.841186e+12        5642494      F  2016-04-29T16:07:23Z   \n",
       "\n",
       "         AppointmentDay  Age      Neighbourhood  Scholarship  Hipertension  \\\n",
       "0  2016-04-29T00:00:00Z   62    JARDIM DA PENHA            0             1   \n",
       "1  2016-04-29T00:00:00Z   56    JARDIM DA PENHA            0             0   \n",
       "2  2016-04-29T00:00:00Z   62      MATA DA PRAIA            0             0   \n",
       "3  2016-04-29T00:00:00Z    8  PONTAL DE CAMBURI            0             0   \n",
       "4  2016-04-29T00:00:00Z   56    JARDIM DA PENHA            0             1   \n",
       "\n",
       "   Diabetes  Alcoholism  Handcap  SMS_received No-show  \n",
       "0         0           0        0             0      No  \n",
       "1         0           0        0             0      No  \n",
       "2         0           0        0             0      No  \n",
       "3         0           0        0             0      No  \n",
       "4         1           0        0             0      No  "
      ]
     },
     "execution_count": 2,
     "metadata": {},
     "output_type": "execute_result"
    }
   ],
   "source": [
    "try:\n",
    "    file = 'C:/Users/Carter Carlson/Documents/Thinkful/Large Databases/No show dr appt.csv'\n",
    "    df = pd.read_csv(file)\n",
    "except:\n",
    "    file = 'C:/Users/18047/Downloads/KaggleV2-May-2016.csv'\n",
    "    df = pd.read_csv(file)\n",
    "\n",
    "print('# of Records: ', len(df))\n",
    "df.head()"
   ]
  },
  {
   "cell_type": "code",
   "execution_count": 3,
   "metadata": {},
   "outputs": [],
   "source": [
    "# Data cleansing/adding features\n",
    "\n",
    "df = df.drop(['AppointmentID', 'Neighbourhood'], 1)\n",
    "df = df.rename(columns={'Gender':'IsFemale'})\n",
    "\n",
    "# Convert ScheduledDay and AppointmentDay into dates\n",
    "df['ScheduledDay'] = df['ScheduledDay'].str[:10]\n",
    "df['AppointmentDay'] = df['AppointmentDay'].str[:10]\n",
    "df['ScheduledDay'] = pd.to_datetime(df['ScheduledDay'])\n",
    "df['AppointmentDay'] = pd.to_datetime(df['AppointmentDay'])\n",
    "\n",
    "# Create new features\n",
    "df['DaysBeforeAppt'] = abs(df['ScheduledDay'] - df['AppointmentDay']).dt.days\n",
    "df['ScheduledSameDay'] = (df['DaysBeforeAppt'] == 0)\n",
    "df['VeryHealthy'] = ((df['Hipertension'] + df['Diabetes'] + df['Alcoholism'] + df['Handcap']) == 0)\n",
    "df['VeryUnhealthy'] = ((df['Hipertension'] + df['Diabetes'] + df['Alcoholism'] + df['Handcap']) >= 2)\n",
    "\n",
    "# Convert columns to boolean\n",
    "cols_to_convert = ['Scholarship', 'Hipertension', 'Diabetes', 'Alcoholism', 'Handcap', 'SMS_received']\n",
    "for col in cols_to_convert:\n",
    "    df[col] = (df[col] > 0)\n",
    "\n",
    "df['IsFemale'] = (df['IsFemale'] == \"F\")\n",
    "df['No-show'] = (df['No-show'] != \"No\")"
   ]
  },
  {
   "cell_type": "markdown",
   "metadata": {},
   "source": [
    "---\n",
    "## Correlation Analysis\n",
    "\n",
    "Let's filter our dataset to only variables with low correlation to each other.  It may help our model be less biased by removing any weight two correlated variables would create on predictions."
   ]
  },
  {
   "cell_type": "code",
   "execution_count": 33,
   "metadata": {},
   "outputs": [
    {
     "data": {
      "image/png": "[encoded data removed]",
      "text/plain": [
       "<Figure size 432x288 with 2 Axes>"
      ]
     },
     "metadata": {},
     "output_type": "display_data"
    }
   ],
   "source": [
    "X = df[['DaysBeforeAppt', 'ScheduledSameDay', 'VeryHealthy', 'VeryUnhealthy', 'IsFemale', 'SMS_received', 'Scholarship', 'Age']]\n",
    "Y = df['No-show']\n",
    "\n",
    "correlations = X.corr()\n",
    "\n",
    "sns.heatmap(correlations, vmax=.8, square=True)\n",
    "plt.show()"
   ]
  },
  {
   "cell_type": "markdown",
   "metadata": {},
   "source": [
    "### Positive AND Negative Correlations\n",
    "Age and SMS_received have a strong positive correlation and strong negative correlation with other variables.  For Age the variables correlated are, unsurprisingly, VeryHealthy and VeryUnhealthy, so for now I'll remove the Age variable.  SMS_received doesn't have the same clear relationship with its' variables (DaysBeforeAppt and ScheduleSameDay) as Age does, so for now it'll stay in the dataset."
   ]
  },
  {
   "cell_type": "code",
   "execution_count": 4,
   "metadata": {},
   "outputs": [],
   "source": [
    "df = df.drop('Age', 1)"
   ]
  },
  {
   "cell_type": "markdown",
   "metadata": {},
   "source": [
    "### Negative Correlations\n",
    "\n",
    "I'm not surprised VeryHealthy and VeryUnhealthy are strongly and negatively correlated.  I'll remove one of the columns.\n",
    "\n",
    "Also, ScheduledSameDay and DaysBeforeAppt are negatively correlated, so I'll remove ScheduledSameDay since it's limited to boolean values, and keep DaysBeforeAppt as a continuous variable."
   ]
  },
  {
   "cell_type": "code",
   "execution_count": 4,
   "metadata": {},
   "outputs": [],
   "source": [
    "df = df.drop(['VeryHealthy','ScheduledSameDay'], 1)"
   ]
  },
  {
   "cell_type": "markdown",
   "metadata": {},
   "source": [
    "There's a strong negative correlation between ScheduledSameDay and SMS_received, which might mean people only receive a text if they schedule at least a day before their appointment."
   ]
  },
  {
   "cell_type": "code",
   "execution_count": 6,
   "metadata": {},
   "outputs": [
    {
     "data": {
      "text/html": [
       "<div>\n",
       "<style scoped>\n",
       "    .dataframe tbody tr th:only-of-type {\n",
       "        vertical-align: middle;\n",
       "    }\n",
       "\n",
       "    .dataframe tbody tr th {\n",
       "        vertical-align: top;\n",
       "    }\n",
       "\n",
       "    .dataframe thead th {\n",
       "        text-align: right;\n",
       "    }\n",
       "</style>\n",
       "<table border=\"1\" class=\"dataframe\">\n",
       "  <thead>\n",
       "    <tr style=\"text-align: right;\">\n",
       "      <th></th>\n",
       "      <th>Days before appt</th>\n",
       "      <th>Appts scheduled</th>\n",
       "      <th>Texts received</th>\n",
       "    </tr>\n",
       "  </thead>\n",
       "  <tbody>\n",
       "    <tr>\n",
       "      <th>0</th>\n",
       "      <td>0</td>\n",
       "      <td>38563</td>\n",
       "      <td>0</td>\n",
       "    </tr>\n",
       "    <tr>\n",
       "      <th>1</th>\n",
       "      <td>1</td>\n",
       "      <td>5217</td>\n",
       "      <td>0</td>\n",
       "    </tr>\n",
       "    <tr>\n",
       "      <th>2</th>\n",
       "      <td>2</td>\n",
       "      <td>6725</td>\n",
       "      <td>0</td>\n",
       "    </tr>\n",
       "    <tr>\n",
       "      <th>3</th>\n",
       "      <td>3</td>\n",
       "      <td>2737</td>\n",
       "      <td>906</td>\n",
       "    </tr>\n",
       "    <tr>\n",
       "      <th>4</th>\n",
       "      <td>4</td>\n",
       "      <td>5290</td>\n",
       "      <td>3054</td>\n",
       "    </tr>\n",
       "    <tr>\n",
       "      <th>5</th>\n",
       "      <td>5</td>\n",
       "      <td>3277</td>\n",
       "      <td>2054</td>\n",
       "    </tr>\n",
       "  </tbody>\n",
       "</table>\n",
       "</div>"
      ],
      "text/plain": [
       "   Days before appt  Appts scheduled  Texts received\n",
       "0                 0            38563               0\n",
       "1                 1             5217               0\n",
       "2                 2             6725               0\n",
       "3                 3             2737             906\n",
       "4                 4             5290            3054\n",
       "5                 5             3277            2054"
      ]
     },
     "execution_count": 6,
     "metadata": {},
     "output_type": "execute_result"
    }
   ],
   "source": [
    "num_days = []\n",
    "num_appts = []\n",
    "num_texts = []\n",
    "\n",
    "for i in range(0,6):    \n",
    "    num_days.append(i)\n",
    "    num_appts.append(df[df['DaysBeforeAppt'] == i].count()['DaysBeforeAppt'])\n",
    "    num_texts.append(df[(df['DaysBeforeAppt'] == i) & (df['SMS_received'] == True)].count()['SMS_received'])\n",
    "\n",
    "pd.DataFrame(\n",
    "    {'Days before appt': num_days,\n",
    "     'Appts scheduled': num_appts,\n",
    "     'Texts received': num_texts\n",
    "    })"
   ]
  },
  {
   "cell_type": "markdown",
   "metadata": {},
   "source": [
    "### Positive Correlations\n",
    "\n",
    "Going back to the heatmap, there is a strong positive correlation between SMS_received and DaysBeforeAppt. We can conclude from the table above that text reminders are only sent if the appointment is scheduled at least three days in advance, which explains the SMS_received and DaysBeforeAppt correlation, so I'll remove SMS_received as a feature.  On a side note, I think it's interesting that not everyone who schedules in advance will receive a text."
   ]
  },
  {
   "cell_type": "code",
   "execution_count": 4,
   "metadata": {
    "scrolled": true
   },
   "outputs": [],
   "source": [
    "# Add a feature to show the total number of texts a patient received in proportion to their number of appts.\n",
    "texts_by_patient = df[df['SMS_received'] == 1].groupby('PatientId')['SMS_received'].count()\n",
    "appts_by_patient = df.groupby('PatientId')['IsFemale'].count()\n",
    "\n",
    "texts_by_patient = texts_by_patient.reset_index()\n",
    "appts_by_patient = appts_by_patient.reset_index()\n",
    "\n",
    "texts_by_patient = texts_by_patient.rename(columns={'SMS_received': 'NumTextsReceived'})\n",
    "appts_by_patient = appts_by_patient.rename(columns={'IsFemale': 'NumAppts'})\n",
    "\n",
    "df2 = pd.merge(appts_by_patient, texts_by_patient, on='PatientId')\n",
    "df2['TextsToAppts'] = df2['NumTextsReceived'] / df2['NumAppts']\n",
    "df2 = df2.dropna(0)\n",
    "\n",
    "df = pd.merge(df, df2[['PatientId', 'TextsToAppts']], on='PatientId')\n",
    "\n",
    "df = df.drop('SMS_received', 1)"
   ]
  },
  {
   "cell_type": "code",
   "execution_count": 17,
   "metadata": {
    "scrolled": true
   },
   "outputs": [
    {
     "data": {
      "image/png": "[encoded data removed]",
      "text/plain": [
       "<Figure size 432x288 with 2 Axes>"
      ]
     },
     "metadata": {},
     "output_type": "display_data"
    }
   ],
   "source": [
    "X = df[['DaysBeforeAppt', 'VeryUnhealthy', 'IsFemale', 'Scholarship', 'TextsToAppts']]\n",
    "Y = df['No-show']\n",
    "correlations = X.corr()\n",
    "\n",
    "sns.heatmap(correlations, vmax=.8, square=True)\n",
    "plt.show()"
   ]
  },
  {
   "cell_type": "markdown",
   "metadata": {},
   "source": [
    "Much better!\n",
    "\n",
    "---\n",
    "\n",
    "## Logistic Regression"
   ]
  },
  {
   "cell_type": "code",
   "execution_count": 14,
   "metadata": {},
   "outputs": [
    {
     "data": {
      "text/plain": [
       "LogisticRegression(C=1.0, class_weight=None, dual=False, fit_intercept=True,\n",
       "          intercept_scaling=1, max_iter=100, multi_class='ovr', n_jobs=1,\n",
       "          penalty='l2', random_state=None, solver='liblinear', tol=0.0001,\n",
       "          verbose=0, warm_start=False)"
      ]
     },
     "execution_count": 14,
     "metadata": {},
     "output_type": "execute_result"
    }
   ],
   "source": [
    "from sklearn.linear_model import LogisticRegression\n",
    "X = df[['DaysBeforeAppt', 'VeryUnhealthy', 'IsFemale', 'Scholarship', 'TextsToAppts']]\n",
    "Y = df['No-show']\n",
    "\n",
    "regr = LogisticRegression()\n",
    "regr.fit(X_mat, Y_mat)\n",
    "# Note: need help here"
   ]
  },
  {
   "cell_type": "code",
   "execution_count": 12,
   "metadata": {},
   "outputs": [],
   "source": [
    "X = df[['DaysBeforeAppt', 'VeryUnhealthy', 'IsFemale', 'Scholarship', 'TextsToAppts']]\n",
    "Y = df['No-show']\n",
    "\n",
    "X_mat = X.as_matrix()\n",
    "Y_mat = np.array(Y)"
   ]
  },
  {
   "cell_type": "code",
   "execution_count": 13,
   "metadata": {},
   "outputs": [
    {
     "name": "stdout",
     "output_type": "stream",
     "text": [
      "(58729, 5)\n",
      "(58729,)\n"
     ]
    }
   ],
   "source": [
    "print(X_mat.shape)\n",
    "print(Y_mat.shape)"
   ]
  },
  {
   "cell_type": "code",
   "execution_count": null,
   "metadata": {},
   "outputs": [],
   "source": [
    "# a. Confusion matrix with all algorithms\n",
    "# b. Classification report for each\n",
    "# c. Roc curve\n",
    "# Then conclude which is best"
   ]
  },
  {
   "cell_type": "code",
   "execution_count": 7,
   "metadata": {},
   "outputs": [
    {
     "data": {
      "image/png": "[encoded data removed]",
      "text/plain": [
       "<Figure size 432x288 with 1 Axes>"
      ]
     },
     "metadata": {},
     "output_type": "display_data"
    }
   ],
   "source": [
    "from sklearn.ensemble import RandomForestClassifier\n",
    "# Play with parameters\n",
    "tree = RandomForestClassifier()\n",
    "X = df.drop(['No-show', 'PatientId', 'ScheduledDay', 'AppointmentDay'], 1)\n",
    "Y = df['No-show']\n",
    "tree.fit(X, Y)\n",
    "\n",
    "feature_importance = tree.feature_importances_\n",
    "feature_importance = 100.0 * (feature_importance / feature_importance.max())\n",
    "sorted_features = np.argsort(feature_importance)\n",
    "pos = np.arange(sorted_features.shape[0]) + .5\n",
    "plt.barh(pos, feature_importance[sorted_features], align='center')\n",
    "plt.title('Variable Importance')\n",
    "plt.xlabel('Relative Importance')\n",
    "plt.yticks(pos, X.columns[sorted_features])\n",
    "plt.show()"
   ]
  },
  {
   "cell_type": "markdown",
   "metadata": {},
   "source": [
    "We saw earlier that Age had a high correlation with VeryHealthy and VeryUnhealthy, and decided to remove it.  Further analysis showed that Age is the most important factor to predict no-shows while VeryHealthy and VeryUnhealthy have a very low impact on predictions.  Moving forward I'll use the 3 most important variables to predict no-shows."
   ]
  },
  {
   "cell_type": "code",
   "execution_count": 8,
   "metadata": {},
   "outputs": [
    {
     "name": "stdout",
     "output_type": "stream",
     "text": [
      "Bernoulli Naive Bayes\n",
      "             precision    recall  f1-score   support\n",
      "\n",
      "      False       0.76      1.00      0.87     44884\n",
      "       True       0.00      0.00      0.00     13845\n",
      "\n",
      "avg / total       0.58      0.76      0.66     58729\n",
      "\n",
      "---------------------------------------------------\n"
     ]
    },
    {
     "name": "stderr",
     "output_type": "stream",
     "text": [
      "C:\\ProgramData\\Anaconda3\\lib\\site-packages\\sklearn\\metrics\\classification.py:1135: UndefinedMetricWarning: Precision and F-score are ill-defined and being set to 0.0 in labels with no predicted samples.\n",
      "  'precision', 'predicted', average, warn_for)\n"
     ]
    },
    {
     "name": "stdout",
     "output_type": "stream",
     "text": [
      "Random Forest\n",
      "             precision    recall  f1-score   support\n",
      "\n",
      "      False       0.86      0.95      0.90     44884\n",
      "       True       0.76      0.49      0.60     13845\n",
      "\n",
      "avg / total       0.84      0.84      0.83     58729\n",
      "\n",
      "---------------------------------------------------\n",
      "K Nearest Neighbors\n",
      "             precision    recall  f1-score   support\n",
      "\n",
      "      False       0.82      0.93      0.87     44884\n",
      "       True       0.62      0.34      0.44     13845\n",
      "\n",
      "avg / total       0.77      0.79      0.77     58729\n",
      "\n",
      "---------------------------------------------------\n"
     ]
    }
   ],
   "source": [
    "from sklearn.metrics import confusion_matrix\n",
    "from sklearn.metrics import f1_score\n",
    "from sklearn.metrics import classification_report\n",
    "from sklearn.naive_bayes import GaussianNB\n",
    "from sklearn.naive_bayes import BernoulliNB\n",
    "from sklearn.ensemble import RandomForestClassifier\n",
    "from sklearn.neighbors import KNeighborsClassifier\n",
    "\n",
    "X = df[['Age', 'DaysBeforeAppt', 'TextsToAppts']]\n",
    "\n",
    "\n",
    "bnb = BernoulliNB()\n",
    "tree = RandomForestClassifier()\n",
    "knn = KNeighborsClassifier()\n",
    "\n",
    "# Note: add logistic regression here\n",
    "classifiers = [bnb, tree, knn]\n",
    "classifier_name = ['Bernoulli Naive Bayes', 'Random Forest', 'K Nearest Neighbors']\n",
    "\n",
    "for i in range(0, len(classifiers)):\n",
    "    classifier = classifiers[i]\n",
    "    classifier.fit(X, Y)\n",
    "    y_pred = classifier.predict(X)\n",
    "    matrix = confusion_matrix(Y, y_pred)\n",
    "\n",
    "    true_positive = matrix[0][0]\n",
    "    false_positive = matrix[0][1]\n",
    "    false_negative = matrix[1][0]\n",
    "    true_negative = matrix[1][1]\n",
    "    \n",
    "    precision = true_positive / (true_positive + false_positive)\n",
    "    sensitivity = true_positive / (true_positive + false_negative)\n",
    "    f1_score = 2 * ((precision * sensitivity) / (precision + sensitivity))\n",
    "    \n",
    "    print(classifier_name[i])\n",
    "    print(classification_report(Y, y_pred))\n",
    "    print('---------------------------------------------------')\n",
    "    #print('Precision  : {:0.2f}'.format(precision))\n",
    "    #print('Sensitivity/Recall : {:0.2f}'.format(sensitivity))\n",
    "    #print('F1 score: {:0.2f}\\n'.format(f1_score))\n",
    "    "
   ]
  },
  {
   "cell_type": "code",
   "execution_count": 10,
   "metadata": {},
   "outputs": [
    {
     "data": {
      "image/png": "[encoded data removed]",
      "text/plain": [
       "<Figure size 432x288 with 1 Axes>"
      ]
     },
     "metadata": {},
     "output_type": "display_data"
    }
   ],
   "source": [
    "from sklearn.metrics import roc_curve, auc\n",
    "\n",
    "colors = ['green', 'blue', 'red']\n",
    "classifiers = [bnb, tree, knn]\n",
    "\n",
    "# include labels\n",
    "for i in range(0, len(classifiers)):\n",
    "    classifier = classifiers[i]\n",
    "    classifier.fit(X, Y)\n",
    "    y_pred = classifier.predict(X)\n",
    "    false_pos_rate, true_pos_rate, thresholds = roc_curve(Y, y_pred)\n",
    "    roc_auc = auc(false_pos_rate, true_pos_rate)\n",
    "    plt.plot(false_pos_rate, true_pos_rate, color=colors[i])\n",
    "\n",
    "plt.show()"
   ]
  },
  {
   "cell_type": "code",
   "execution_count": null,
   "metadata": {},
   "outputs": [],
   "source": [
    "# Scope of project\n",
    "# Data exploration\n",
    "# What is interesting\n",
    "# Worked with default values for classifiers\n",
    "# Count of show vs. no-show\n",
    "# Randomly select 13,000 False no-show to balance\n",
    "#    separate show/no-show, take first 13,000\n",
    "#    Rejoin dataframes"
   ]
  }
 ],
 "metadata": {
  "kernelspec": {
   "display_name": "Python 3",
   "language": "python",
   "name": "python3"
  },
  "language_info": {
   "codemirror_mode": {
    "name": "ipython",
    "version": 3
   },
   "file_extension": ".py",
   "mimetype": "text/x-python",
   "name": "python",
   "nbconvert_exporter": "python",
   "pygments_lexer": "ipython3",
   "version": "3.6.5"
  }
 },
 "nbformat": 4,
 "nbformat_minor": 2
}
