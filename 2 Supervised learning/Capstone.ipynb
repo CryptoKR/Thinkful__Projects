{
 "cells": [
  {
   "cell_type": "markdown",
   "metadata": {},
   "source": [
    "# Predicting Medical Appointment No Shows\n",
    "\n",
    "---\n",
    "\n",
    "### [Dataset](https://www.kaggle.com/joniarroba/noshowappointments/home)\n",
    "\n",
    "### Context\n",
    "A person makes a doctor appointment, receives all the instructions and is a no show.  Is it possible to predict if someone will be a no-show?\n",
    "\n",
    "### Content\n",
    "This dataset contains 300,000 medical appointments and 15 characteristics of each appointment.  The appointments took place in Brazil and occurred between April 29, 2016 and June 8, 2016. "
   ]
  },
  {
   "cell_type": "code",
   "execution_count": 2,
   "metadata": {},
   "outputs": [
    {
     "name": "stdout",
     "output_type": "stream",
     "text": [
      "# of Records:\n",
      " 300000\n",
      "\n",
      "\n",
      " # of No-shows\n",
      " Status\n",
      "No-Show     90731\n",
      "Show-Up    209269\n",
      "Name: Status, dtype: int64\n"
     ]
    },
    {
     "data": {
      "text/html": [
       "<div>\n",
       "<style scoped>\n",
       "    .dataframe tbody tr th:only-of-type {\n",
       "        vertical-align: middle;\n",
       "    }\n",
       "\n",
       "    .dataframe tbody tr th {\n",
       "        vertical-align: top;\n",
       "    }\n",
       "\n",
       "    .dataframe thead th {\n",
       "        text-align: right;\n",
       "    }\n",
       "</style>\n",
       "<table border=\"1\" class=\"dataframe\">\n",
       "  <thead>\n",
       "    <tr style=\"text-align: right;\">\n",
       "      <th></th>\n",
       "      <th>Age</th>\n",
       "      <th>Gender</th>\n",
       "      <th>AppointmentRegistration</th>\n",
       "      <th>ApointmentData</th>\n",
       "      <th>DayOfTheWeek</th>\n",
       "      <th>Status</th>\n",
       "      <th>Diabetes</th>\n",
       "      <th>Alcoolism</th>\n",
       "      <th>HiperTension</th>\n",
       "      <th>Handcap</th>\n",
       "      <th>Smokes</th>\n",
       "      <th>Scholarship</th>\n",
       "      <th>Tuberculosis</th>\n",
       "      <th>Sms_Reminder</th>\n",
       "      <th>AwaitingTime</th>\n",
       "    </tr>\n",
       "  </thead>\n",
       "  <tbody>\n",
       "    <tr>\n",
       "      <th>0</th>\n",
       "      <td>19</td>\n",
       "      <td>M</td>\n",
       "      <td>2014-12-16T14:46:25Z</td>\n",
       "      <td>2015-01-14T00:00:00Z</td>\n",
       "      <td>Wednesday</td>\n",
       "      <td>Show-Up</td>\n",
       "      <td>0</td>\n",
       "      <td>0</td>\n",
       "      <td>0</td>\n",
       "      <td>0</td>\n",
       "      <td>0</td>\n",
       "      <td>0</td>\n",
       "      <td>0</td>\n",
       "      <td>0</td>\n",
       "      <td>-29</td>\n",
       "    </tr>\n",
       "    <tr>\n",
       "      <th>1</th>\n",
       "      <td>24</td>\n",
       "      <td>F</td>\n",
       "      <td>2015-08-18T07:01:26Z</td>\n",
       "      <td>2015-08-19T00:00:00Z</td>\n",
       "      <td>Wednesday</td>\n",
       "      <td>Show-Up</td>\n",
       "      <td>0</td>\n",
       "      <td>0</td>\n",
       "      <td>0</td>\n",
       "      <td>0</td>\n",
       "      <td>0</td>\n",
       "      <td>0</td>\n",
       "      <td>0</td>\n",
       "      <td>0</td>\n",
       "      <td>-1</td>\n",
       "    </tr>\n",
       "    <tr>\n",
       "      <th>2</th>\n",
       "      <td>4</td>\n",
       "      <td>F</td>\n",
       "      <td>2014-02-17T12:53:46Z</td>\n",
       "      <td>2014-02-18T00:00:00Z</td>\n",
       "      <td>Tuesday</td>\n",
       "      <td>Show-Up</td>\n",
       "      <td>0</td>\n",
       "      <td>0</td>\n",
       "      <td>0</td>\n",
       "      <td>0</td>\n",
       "      <td>0</td>\n",
       "      <td>0</td>\n",
       "      <td>0</td>\n",
       "      <td>0</td>\n",
       "      <td>-1</td>\n",
       "    </tr>\n",
       "    <tr>\n",
       "      <th>3</th>\n",
       "      <td>5</td>\n",
       "      <td>M</td>\n",
       "      <td>2014-07-23T17:02:11Z</td>\n",
       "      <td>2014-08-07T00:00:00Z</td>\n",
       "      <td>Thursday</td>\n",
       "      <td>Show-Up</td>\n",
       "      <td>0</td>\n",
       "      <td>0</td>\n",
       "      <td>0</td>\n",
       "      <td>0</td>\n",
       "      <td>0</td>\n",
       "      <td>0</td>\n",
       "      <td>0</td>\n",
       "      <td>1</td>\n",
       "      <td>-15</td>\n",
       "    </tr>\n",
       "    <tr>\n",
       "      <th>4</th>\n",
       "      <td>38</td>\n",
       "      <td>M</td>\n",
       "      <td>2015-10-21T15:20:09Z</td>\n",
       "      <td>2015-10-27T00:00:00Z</td>\n",
       "      <td>Tuesday</td>\n",
       "      <td>Show-Up</td>\n",
       "      <td>0</td>\n",
       "      <td>0</td>\n",
       "      <td>0</td>\n",
       "      <td>0</td>\n",
       "      <td>0</td>\n",
       "      <td>0</td>\n",
       "      <td>0</td>\n",
       "      <td>1</td>\n",
       "      <td>-6</td>\n",
       "    </tr>\n",
       "  </tbody>\n",
       "</table>\n",
       "</div>"
      ],
      "text/plain": [
       "   Age Gender AppointmentRegistration        ApointmentData DayOfTheWeek  \\\n",
       "0   19      M    2014-12-16T14:46:25Z  2015-01-14T00:00:00Z    Wednesday   \n",
       "1   24      F    2015-08-18T07:01:26Z  2015-08-19T00:00:00Z    Wednesday   \n",
       "2    4      F    2014-02-17T12:53:46Z  2014-02-18T00:00:00Z      Tuesday   \n",
       "3    5      M    2014-07-23T17:02:11Z  2014-08-07T00:00:00Z     Thursday   \n",
       "4   38      M    2015-10-21T15:20:09Z  2015-10-27T00:00:00Z      Tuesday   \n",
       "\n",
       "    Status  Diabetes  Alcoolism  HiperTension  Handcap  Smokes  Scholarship  \\\n",
       "0  Show-Up         0          0             0        0       0            0   \n",
       "1  Show-Up         0          0             0        0       0            0   \n",
       "2  Show-Up         0          0             0        0       0            0   \n",
       "3  Show-Up         0          0             0        0       0            0   \n",
       "4  Show-Up         0          0             0        0       0            0   \n",
       "\n",
       "   Tuberculosis  Sms_Reminder  AwaitingTime  \n",
       "0             0             0           -29  \n",
       "1             0             0            -1  \n",
       "2             0             0            -1  \n",
       "3             0             1           -15  \n",
       "4             0             1            -6  "
      ]
     },
     "execution_count": 2,
     "metadata": {},
     "output_type": "execute_result"
    }
   ],
   "source": [
    "import numpy as np\n",
    "import pandas as pd\n",
    "import matplotlib.pyplot as plt\n",
    "import time\n",
    "import calendar\n",
    "import seaborn as sns\n",
    "sns.set_style('white')\n",
    "\n",
    "# Note: redownload Kaggle data version 3\n",
    "try:\n",
    "    file = 'C:/Users/Carter Carlson/Documents/Thinkful/Large Databases/No show dr appt.csv'\n",
    "    df = pd.read_csv(file)\n",
    "except:\n",
    "    file = 'C:/Users/18047/Downloads/No show.csv'\n",
    "    df = pd.read_csv(file)\n",
    "\n",
    "print('# of Records:\\n', len(df))\n",
    "print('\\n\\n # of No-shows\\n', df.groupby('Status')['Status'].count())\n",
    "df.head()"
   ]
  },
  {
   "cell_type": "code",
   "execution_count": 3,
   "metadata": {},
   "outputs": [],
   "source": [
    "# Data cleaning/adding features\n",
    "df = df.drop(['AwaitingTime'], 1)\n",
    "df = df[df['Age'] > 0]\n",
    "df = df.rename(columns={'Gender':'IsFemale', \n",
    "                        'AppointmentRegistration': 'ScheduledDay',\n",
    "                        'ApointmentData': 'AppointmentDay',\n",
    "                        'Status': 'No-show',\n",
    "                        'Alcoolism': 'Alcoholism',\n",
    "                        'HiperTension': 'Hypertension',\n",
    "                        'Sms_Reminder': 'SMS_received',\n",
    "                        'Handcap': 'Handicap',\n",
    "                        'DayOfTheWeek': 'Weekday'})\n",
    "\n",
    "# Convert ScheduledDay and AppointmentDay into dates\n",
    "df['ScheduledDay'] = df['ScheduledDay'].str[:10]\n",
    "df['AppointmentDay'] = df['AppointmentDay'].str[:10]\n",
    "df['ScheduledDay'] = pd.to_datetime(df['ScheduledDay'])\n",
    "df['AppointmentDay'] = pd.to_datetime(df['AppointmentDay'])\n",
    "\n",
    "# Create new features\n",
    "df['DaysBeforeAppt'] = abs(df['ScheduledDay'] - df['AppointmentDay']).dt.days\n",
    "df['VeryHealthy'] = ((df['Hypertension'] + df['Diabetes'] + df['Alcoholism'] + df['Handicap'] + df['Smokes']) == 0)\n",
    "df['VeryUnhealthy'] = ((df['Hypertension'] + df['Diabetes'] + df['Alcoholism'] + df['Handicap'] + df['Smokes']) >= 2)\n",
    "\n",
    "# Convert columns to boolean\n",
    "cols_to_convert = ['Scholarship', 'Hypertension', 'Diabetes', 'Alcoholism', 'Handicap', 'Tuberculosis', 'Smokes', 'SMS_received']\n",
    "for col in cols_to_convert:\n",
    "    df[col] = (df[col] > 0)\n",
    "\n",
    "df['IsFemale'] = (df['IsFemale'] == \"F\")\n",
    "df['No-show'] = (df['No-show'] != \"No-Show\")"
   ]
  },
  {
   "cell_type": "markdown",
   "metadata": {},
   "source": [
    "## Dataset Analysis"
   ]
  },
  {
   "cell_type": "code",
   "execution_count": null,
   "metadata": {},
   "outputs": [],
   "source": [
    "# Analyze no-show by gender, age, day of week\n",
    "# 1. Pie chart of gender - done\n",
    "# 2. Histogram of ages\n",
    "# 3. Histogram of day of week\n",
    "# 4. x=no-show, y=age, filter by gender"
   ]
  },
  {
   "cell_type": "code",
   "execution_count": 111,
   "metadata": {},
   "outputs": [
    {
     "data": {
      "image/png": "[encoded data removed]",
      "text/plain": [
       "<Figure size 432x288 with 1 Axes>"
      ]
     },
     "metadata": {},
     "output_type": "display_data"
    }
   ],
   "source": [
    "plt.pie(df.groupby('IsFemale')['IsFemale'].count(), colors=['lightskyblue', 'lightcoral'],\n",
    "        autopct='%1.1f%%', textprops={'fontsize': 12})\n",
    "plt.legend(['Male', 'Female'], loc='best', fontsize=14)\n",
    "plt.axis('equal')\n",
    "plt.tight_layout()\n",
    "plt.show()"
   ]
  },
  {
   "cell_type": "code",
   "execution_count": 9,
   "metadata": {},
   "outputs": [
    {
     "data": {
      "image/png": "[encoded data removed]",
      "text/plain": [
       "<Figure size 432x288 with 1 Axes>"
      ]
     },
     "metadata": {},
     "output_type": "display_data"
    }
   ],
   "source": [
    "plt.hist(df['Age'])\n",
    "plt.show()"
   ]
  },
  {
   "cell_type": "code",
   "execution_count": 12,
   "metadata": {
    "collapsed": true
   },
   "outputs": [
    {
     "ename": "ValueError",
     "evalue": "shape mismatch: objects cannot be broadcast to a single shape",
     "output_type": "error",
     "traceback": [
      "\u001b[1;31m---------------------------------------------------------------------------\u001b[0m",
      "\u001b[1;31mValueError\u001b[0m                                Traceback (most recent call last)",
      "\u001b[1;32m<ipython-input-12-6877b515e755>\u001b[0m in \u001b[0;36m<module>\u001b[1;34m()\u001b[0m\n\u001b[1;32m----> 1\u001b[1;33m \u001b[0mplt\u001b[0m\u001b[1;33m.\u001b[0m\u001b[0mbar\u001b[0m\u001b[1;33m(\u001b[0m\u001b[0mlist\u001b[0m\u001b[1;33m(\u001b[0m\u001b[0mcalendar\u001b[0m\u001b[1;33m.\u001b[0m\u001b[0mday_name\u001b[0m\u001b[1;33m)\u001b[0m\u001b[1;33m,\u001b[0m \u001b[0mdf\u001b[0m\u001b[1;33m[\u001b[0m\u001b[1;34m'Weekday'\u001b[0m\u001b[1;33m]\u001b[0m\u001b[1;33m)\u001b[0m\u001b[1;33m\u001b[0m\u001b[0m\n\u001b[0m",
      "\u001b[1;32mC:\\ProgramData\\Anaconda3\\lib\\site-packages\\matplotlib\\pyplot.py\u001b[0m in \u001b[0;36mbar\u001b[1;34m(*args, **kwargs)\u001b[0m\n\u001b[0;32m   2768\u001b[0m                       mplDeprecation)\n\u001b[0;32m   2769\u001b[0m     \u001b[1;32mtry\u001b[0m\u001b[1;33m:\u001b[0m\u001b[1;33m\u001b[0m\u001b[0m\n\u001b[1;32m-> 2770\u001b[1;33m         \u001b[0mret\u001b[0m \u001b[1;33m=\u001b[0m \u001b[0max\u001b[0m\u001b[1;33m.\u001b[0m\u001b[0mbar\u001b[0m\u001b[1;33m(\u001b[0m\u001b[1;33m*\u001b[0m\u001b[0margs\u001b[0m\u001b[1;33m,\u001b[0m \u001b[1;33m**\u001b[0m\u001b[0mkwargs\u001b[0m\u001b[1;33m)\u001b[0m\u001b[1;33m\u001b[0m\u001b[0m\n\u001b[0m\u001b[0;32m   2771\u001b[0m     \u001b[1;32mfinally\u001b[0m\u001b[1;33m:\u001b[0m\u001b[1;33m\u001b[0m\u001b[0m\n\u001b[0;32m   2772\u001b[0m         \u001b[0max\u001b[0m\u001b[1;33m.\u001b[0m\u001b[0m_hold\u001b[0m \u001b[1;33m=\u001b[0m \u001b[0mwashold\u001b[0m\u001b[1;33m\u001b[0m\u001b[0m\n",
      "\u001b[1;32mC:\\ProgramData\\Anaconda3\\lib\\site-packages\\matplotlib\\__init__.py\u001b[0m in \u001b[0;36minner\u001b[1;34m(ax, *args, **kwargs)\u001b[0m\n\u001b[0;32m   1853\u001b[0m                         \u001b[1;34m\"the Matplotlib list!)\"\u001b[0m \u001b[1;33m%\u001b[0m \u001b[1;33m(\u001b[0m\u001b[0mlabel_namer\u001b[0m\u001b[1;33m,\u001b[0m \u001b[0mfunc\u001b[0m\u001b[1;33m.\u001b[0m\u001b[0m__name__\u001b[0m\u001b[1;33m)\u001b[0m\u001b[1;33m,\u001b[0m\u001b[1;33m\u001b[0m\u001b[0m\n\u001b[0;32m   1854\u001b[0m                         RuntimeWarning, stacklevel=2)\n\u001b[1;32m-> 1855\u001b[1;33m             \u001b[1;32mreturn\u001b[0m \u001b[0mfunc\u001b[0m\u001b[1;33m(\u001b[0m\u001b[0max\u001b[0m\u001b[1;33m,\u001b[0m \u001b[1;33m*\u001b[0m\u001b[0margs\u001b[0m\u001b[1;33m,\u001b[0m \u001b[1;33m**\u001b[0m\u001b[0mkwargs\u001b[0m\u001b[1;33m)\u001b[0m\u001b[1;33m\u001b[0m\u001b[0m\n\u001b[0m\u001b[0;32m   1856\u001b[0m \u001b[1;33m\u001b[0m\u001b[0m\n\u001b[0;32m   1857\u001b[0m         inner.__doc__ = _add_data_doc(inner.__doc__,\n",
      "\u001b[1;32mC:\\ProgramData\\Anaconda3\\lib\\site-packages\\matplotlib\\axes\\_axes.py\u001b[0m in \u001b[0;36mbar\u001b[1;34m(self, *args, **kwargs)\u001b[0m\n\u001b[0;32m   2231\u001b[0m         x, height, width, y, linewidth = np.broadcast_arrays(\n\u001b[0;32m   2232\u001b[0m             \u001b[1;31m# Make args iterable too.\u001b[0m\u001b[1;33m\u001b[0m\u001b[1;33m\u001b[0m\u001b[0m\n\u001b[1;32m-> 2233\u001b[1;33m             np.atleast_1d(x), height, width, y, linewidth)\n\u001b[0m\u001b[0;32m   2234\u001b[0m \u001b[1;33m\u001b[0m\u001b[0m\n\u001b[0;32m   2235\u001b[0m         \u001b[1;31m# Now that units have been converted, set the tick locations.\u001b[0m\u001b[1;33m\u001b[0m\u001b[1;33m\u001b[0m\u001b[0m\n",
      "\u001b[1;32mC:\\ProgramData\\Anaconda3\\lib\\site-packages\\numpy\\lib\\stride_tricks.py\u001b[0m in \u001b[0;36mbroadcast_arrays\u001b[1;34m(*args, **kwargs)\u001b[0m\n\u001b[0;32m    247\u001b[0m     \u001b[0margs\u001b[0m \u001b[1;33m=\u001b[0m \u001b[1;33m[\u001b[0m\u001b[0mnp\u001b[0m\u001b[1;33m.\u001b[0m\u001b[0marray\u001b[0m\u001b[1;33m(\u001b[0m\u001b[0m_m\u001b[0m\u001b[1;33m,\u001b[0m \u001b[0mcopy\u001b[0m\u001b[1;33m=\u001b[0m\u001b[1;32mFalse\u001b[0m\u001b[1;33m,\u001b[0m \u001b[0msubok\u001b[0m\u001b[1;33m=\u001b[0m\u001b[0msubok\u001b[0m\u001b[1;33m)\u001b[0m \u001b[1;32mfor\u001b[0m \u001b[0m_m\u001b[0m \u001b[1;32min\u001b[0m \u001b[0margs\u001b[0m\u001b[1;33m]\u001b[0m\u001b[1;33m\u001b[0m\u001b[0m\n\u001b[0;32m    248\u001b[0m \u001b[1;33m\u001b[0m\u001b[0m\n\u001b[1;32m--> 249\u001b[1;33m     \u001b[0mshape\u001b[0m \u001b[1;33m=\u001b[0m \u001b[0m_broadcast_shape\u001b[0m\u001b[1;33m(\u001b[0m\u001b[1;33m*\u001b[0m\u001b[0margs\u001b[0m\u001b[1;33m)\u001b[0m\u001b[1;33m\u001b[0m\u001b[0m\n\u001b[0m\u001b[0;32m    250\u001b[0m \u001b[1;33m\u001b[0m\u001b[0m\n\u001b[0;32m    251\u001b[0m     \u001b[1;32mif\u001b[0m \u001b[0mall\u001b[0m\u001b[1;33m(\u001b[0m\u001b[0marray\u001b[0m\u001b[1;33m.\u001b[0m\u001b[0mshape\u001b[0m \u001b[1;33m==\u001b[0m \u001b[0mshape\u001b[0m \u001b[1;32mfor\u001b[0m \u001b[0marray\u001b[0m \u001b[1;32min\u001b[0m \u001b[0margs\u001b[0m\u001b[1;33m)\u001b[0m\u001b[1;33m:\u001b[0m\u001b[1;33m\u001b[0m\u001b[0m\n",
      "\u001b[1;32mC:\\ProgramData\\Anaconda3\\lib\\site-packages\\numpy\\lib\\stride_tricks.py\u001b[0m in \u001b[0;36m_broadcast_shape\u001b[1;34m(*args)\u001b[0m\n\u001b[0;32m    182\u001b[0m     \u001b[1;31m# use the old-iterator because np.nditer does not handle size 0 arrays\u001b[0m\u001b[1;33m\u001b[0m\u001b[1;33m\u001b[0m\u001b[0m\n\u001b[0;32m    183\u001b[0m     \u001b[1;31m# consistently\u001b[0m\u001b[1;33m\u001b[0m\u001b[1;33m\u001b[0m\u001b[0m\n\u001b[1;32m--> 184\u001b[1;33m     \u001b[0mb\u001b[0m \u001b[1;33m=\u001b[0m \u001b[0mnp\u001b[0m\u001b[1;33m.\u001b[0m\u001b[0mbroadcast\u001b[0m\u001b[1;33m(\u001b[0m\u001b[1;33m*\u001b[0m\u001b[0margs\u001b[0m\u001b[1;33m[\u001b[0m\u001b[1;33m:\u001b[0m\u001b[1;36m32\u001b[0m\u001b[1;33m]\u001b[0m\u001b[1;33m)\u001b[0m\u001b[1;33m\u001b[0m\u001b[0m\n\u001b[0m\u001b[0;32m    185\u001b[0m     \u001b[1;31m# unfortunately, it cannot handle 32 or more arguments directly\u001b[0m\u001b[1;33m\u001b[0m\u001b[1;33m\u001b[0m\u001b[0m\n\u001b[0;32m    186\u001b[0m     \u001b[1;32mfor\u001b[0m \u001b[0mpos\u001b[0m \u001b[1;32min\u001b[0m \u001b[0mrange\u001b[0m\u001b[1;33m(\u001b[0m\u001b[1;36m32\u001b[0m\u001b[1;33m,\u001b[0m \u001b[0mlen\u001b[0m\u001b[1;33m(\u001b[0m\u001b[0margs\u001b[0m\u001b[1;33m)\u001b[0m\u001b[1;33m,\u001b[0m \u001b[1;36m31\u001b[0m\u001b[1;33m)\u001b[0m\u001b[1;33m:\u001b[0m\u001b[1;33m\u001b[0m\u001b[0m\n",
      "\u001b[1;31mValueError\u001b[0m: shape mismatch: objects cannot be broadcast to a single shape"
     ]
    },
    {
     "data": {
      "image/png": "[encoded data removed]",
      "text/plain": [
       "<Figure size 432x288 with 1 Axes>"
      ]
     },
     "metadata": {},
     "output_type": "display_data"
    }
   ],
   "source": [
    "plt.bar(list(calendar.day_name), df['Weekday'])"
   ]
  },
  {
   "cell_type": "code",
   "execution_count": 13,
   "metadata": {},
   "outputs": [],
   "source": [
    "day_of_week = list(calendar.day_name)\n",
    "df['Weekday'] = list(map(lambda x: day_of_week.index(x), df['Weekday']))"
   ]
  },
  {
   "cell_type": "markdown",
   "metadata": {},
   "source": [
    "---\n",
    "## Correlation Analysis\n",
    "\n",
    "Let's filter our dataset to only variables with low correlation to each other.  It may help our model be less biased by removing any weight two correlated variables would create on predictions."
   ]
  },
  {
   "cell_type": "code",
   "execution_count": 14,
   "metadata": {},
   "outputs": [
    {
     "data": {
      "image/png": "[encoded data removed]",
      "text/plain": [
       "<Figure size 432x288 with 2 Axes>"
      ]
     },
     "metadata": {},
     "output_type": "display_data"
    }
   ],
   "source": [
    "X = df[['DaysBeforeAppt', 'VeryHealthy', 'VeryUnhealthy', 'IsFemale', 'SMS_received', 'Scholarship', 'Age']]\n",
    "Y = df['No-show']\n",
    "\n",
    "correlations = X.corr()\n",
    "\n",
    "sns.heatmap(correlations, vmax=.8, square=True)\n",
    "plt.show()"
   ]
  },
  {
   "cell_type": "markdown",
   "metadata": {},
   "source": [
    "### Positive and Negative Correlations\n",
    "What immediately strikes out from the heatmap is that Age is the only variable that has strong correlations with more than one variable.  The variables correlated with Age are also, unsurprisingly, VeryHealthy and VeryUnHealthy, so for now I'll remove the Age variable before regression analysis.  VeryHealthy and VeryUnhealthy are also strongly correlated with each-other, so I'll also remove one of them.\n",
    "\n",
    "I was interested to see that SMS_received and DaysBeforeAppt are slightly correlated, and I decided  to investigate further:"
   ]
  },
  {
   "cell_type": "code",
   "execution_count": 79,
   "metadata": {},
   "outputs": [
    {
     "data": {
      "text/html": [
       "<div>\n",
       "<style scoped>\n",
       "    .dataframe tbody tr th:only-of-type {\n",
       "        vertical-align: middle;\n",
       "    }\n",
       "\n",
       "    .dataframe tbody tr th {\n",
       "        vertical-align: top;\n",
       "    }\n",
       "\n",
       "    .dataframe thead th {\n",
       "        text-align: right;\n",
       "    }\n",
       "</style>\n",
       "<table border=\"1\" class=\"dataframe\">\n",
       "  <thead>\n",
       "    <tr style=\"text-align: right;\">\n",
       "      <th></th>\n",
       "      <th>Days before appt</th>\n",
       "      <th>Appts scheduled</th>\n",
       "      <th>Texts received</th>\n",
       "    </tr>\n",
       "  </thead>\n",
       "  <tbody>\n",
       "    <tr>\n",
       "      <th>0</th>\n",
       "      <td>1</td>\n",
       "      <td>30830</td>\n",
       "      <td>0</td>\n",
       "    </tr>\n",
       "    <tr>\n",
       "      <th>1</th>\n",
       "      <td>2</td>\n",
       "      <td>28067</td>\n",
       "      <td>0</td>\n",
       "    </tr>\n",
       "    <tr>\n",
       "      <th>2</th>\n",
       "      <td>3</td>\n",
       "      <td>14055</td>\n",
       "      <td>6236</td>\n",
       "    </tr>\n",
       "    <tr>\n",
       "      <th>3</th>\n",
       "      <td>4</td>\n",
       "      <td>22555</td>\n",
       "      <td>17695</td>\n",
       "    </tr>\n",
       "    <tr>\n",
       "      <th>4</th>\n",
       "      <td>5</td>\n",
       "      <td>13264</td>\n",
       "      <td>9771</td>\n",
       "    </tr>\n",
       "  </tbody>\n",
       "</table>\n",
       "</div>"
      ],
      "text/plain": [
       "   Days before appt  Appts scheduled  Texts received\n",
       "0                 1            30830               0\n",
       "1                 2            28067               0\n",
       "2                 3            14055            6236\n",
       "3                 4            22555           17695\n",
       "4                 5            13264            9771"
      ]
     },
     "execution_count": 79,
     "metadata": {},
     "output_type": "execute_result"
    }
   ],
   "source": [
    "num_days = []\n",
    "num_appts = []\n",
    "num_texts = []\n",
    "\n",
    "for i in range(1,6):    \n",
    "    num_days.append(i)\n",
    "    num_appts.append(df[df['DaysBeforeAppt'] == i].count()['DaysBeforeAppt'])\n",
    "    num_texts.append(df[(df['DaysBeforeAppt'] == i) & (df['SMS_received'] == True)].count()['SMS_received'])\n",
    "\n",
    "pd.DataFrame(\n",
    "    {'Days before appt': num_days,\n",
    "     'Appts scheduled': num_appts,\n",
    "     'Texts received': num_texts\n",
    "    })"
   ]
  },
  {
   "cell_type": "markdown",
   "metadata": {},
   "source": [
    "### Positive Correlations\n",
    "\n",
    "Going back to the heatmap, there is a strong positive correlation between SMS_received and DaysBeforeAppt. We can conclude from the table above that text reminders are only sent if the appointment is scheduled at least three days in advance, which explains the SMS_received and DaysBeforeAppt correlation, so I'll remove SMS_received as a feature.  On a side note, I think it's interesting that not everyone who schedules in advance will receive a text."
   ]
  },
  {
   "cell_type": "code",
   "execution_count": 5,
   "metadata": {
    "scrolled": true
   },
   "outputs": [],
   "source": [
    "# Add a feature to show the total number of texts a patient received in proportion to their number of appts.\n",
    "texts_by_patient = df[df['SMS_received'] == 1].groupby('PatientId')['SMS_received'].count()\n",
    "appts_by_patient = df.groupby('PatientId')['IsFemale'].count()\n",
    "\n",
    "texts_by_patient = texts_by_patient.reset_index()\n",
    "appts_by_patient = appts_by_patient.reset_index()\n",
    "\n",
    "texts_by_patient = texts_by_patient.rename(columns={'SMS_received': 'NumTextsReceived'})\n",
    "appts_by_patient = appts_by_patient.rename(columns={'IsFemale': 'NumAppts'})\n",
    "\n",
    "df2 = pd.merge(appts_by_patient, texts_by_patient, on='PatientId')\n",
    "df2['TextsToAppts'] = df2['NumTextsReceived'] / df2['NumAppts']\n",
    "\n",
    "df = pd.merge(df, df2[['PatientId', 'TextsToAppts']], how='left', on='PatientId')\n",
    "\n",
    "df = df.drop('SMS_received', 1)\n",
    "df = df.fillna(0)"
   ]
  },
  {
   "cell_type": "code",
   "execution_count": 17,
   "metadata": {
    "scrolled": true
   },
   "outputs": [
    {
     "data": {
      "image/png": "[encoded data removed]",
      "text/plain": [
       "<Figure size 432x288 with 2 Axes>"
      ]
     },
     "metadata": {},
     "output_type": "display_data"
    }
   ],
   "source": [
    "X = df[['DaysBeforeAppt', 'VeryUnhealthy', 'IsFemale', 'Scholarship', 'SMS_received']]\n",
    "Y = df['No-show']\n",
    "correlations = X.corr()\n",
    "\n",
    "sns.heatmap(correlations, vmax=.8, square=True)\n",
    "plt.show()"
   ]
  },
  {
   "cell_type": "markdown",
   "metadata": {},
   "source": [
    "Much better!\n",
    "\n",
    "---\n",
    "\n",
    "## Variable Importance"
   ]
  },
  {
   "cell_type": "code",
   "execution_count": 18,
   "metadata": {},
   "outputs": [
    {
     "data": {
      "image/png": "[encoded data removed]",
      "text/plain": [
       "<Figure size 432x288 with 1 Axes>"
      ]
     },
     "metadata": {},
     "output_type": "display_data"
    }
   ],
   "source": [
    "from sklearn.ensemble import RandomForestClassifier\n",
    "# Play with parameters\n",
    "tree = RandomForestClassifier()\n",
    "X = df.drop(['No-show', 'ScheduledDay', 'AppointmentDay'], 1)\n",
    "Y = df['No-show']\n",
    "tree.fit(X, Y)\n",
    "\n",
    "feature_importance = tree.feature_importances_\n",
    "feature_importance = 100.0 * (feature_importance / feature_importance.max())\n",
    "sorted_features = np.argsort(feature_importance)\n",
    "pos = np.arange(sorted_features.shape[0]) + .5\n",
    "plt.barh(pos, feature_importance[sorted_features], align='center')\n",
    "plt.title('Variable Importance')\n",
    "plt.xlabel('Relative Importance')\n",
    "plt.yticks(pos, X.columns[sorted_features])\n",
    "plt.show()"
   ]
  },
  {
   "cell_type": "markdown",
   "metadata": {},
   "source": [
    "We saw earlier that Age had a high correlation with VeryHealthy and VeryUnhealthy, and decided to remove it.  Now we see that Age is the most important factor to predict no-shows while VeryHealthy and VeryUnhealthy have almost no relative importance.  Moving forward I'll use the 3 most important variables to predict no-shows.\n",
    "\n",
    "---\n",
    "# Regression"
   ]
  },
  {
   "cell_type": "code",
   "execution_count": null,
   "metadata": {},
   "outputs": [],
   "source": [
    "from sklearn.linear_model import LogisticRegression\n",
    "from sklearn.naive_bayes import BernoulliNB\n",
    "from sklearn.ensemble import RandomForestClassifier\n",
    "from sklearn.neighbors import KNeighborsClassifier\n",
    "from sklearn.model_selection import GridSearchCV\n",
    "from sklearn.metrics import confusion_matrix, classification_report, roc_curve, auc\n",
    "import math\n",
    "\n",
    "X = df[['Age', 'DaysBeforeAppt', 'Weekday']]\n",
    "Y = df['No-show']\n",
    "\n",
    "# Create classifier\n",
    "logr = LogisticRegression()\n",
    "bnb = BernoulliNB()\n",
    "tree = RandomForestClassifier()\n",
    "knn = KNeighborsClassifier()\n",
    "\n",
    "# Collection of possible parameters\n",
    "logr_param = {'max_iter': [50, 100, 200],\n",
    "             'solver': ['newton-cg', 'lbfgs', 'liblinear', 'sag'],\n",
    "             'tol': [math.exp(-5), math.exp(-4), math.exp(-3)]}\n",
    "\n",
    "bnb_param = {'alpha': [0.01, 0.5, 1, 2]}\n",
    "\n",
    "tree_param = {'n_estimators': [10, 100, 200],\n",
    "             'min_samples_split': [2, 5, 10],\n",
    "             'min_samples_leaf': [1, 2, 4]}\n",
    "\n",
    "knn_param = {'n_neighbors': [2, 5, 10],\n",
    "             'leaf_size': [10, 30, 50],\n",
    "             'weights': ['uniform', 'distance'],\n",
    "             'algorithm': ['auto']}\n",
    "\n",
    "\n",
    "# Determine the best parameters\n",
    "logr_best = GridSearchCV(estimator=logr, param_grid=logr_param, cv=3)\n",
    "bnb_best = GridSearchCV(estimator=bnb, param_grid=bnb_param, cv=3)\n",
    "tree_best = GridSearchCV(estimator=tree, param_grid=tree_param, cv=3)\n",
    "knn_best = GridSearchCV(estimator=knn, param_grid=knn_param, cv=3)\n",
    "\n",
    "classifiers = [logr_best, bnb_best, tree_best, knn_best]\n",
    "classifier_name = ['Logistic Regression', 'Bernoulli Naive Bayes', 'Random Forest', 'K Nearest Neighbors']\n",
    "\n",
    "for i in range(len(classifiers)):\n",
    "    classifier = classifiers[i]\n",
    "    classifier.fit(X, Y)\n",
    "    y_pred = classifier.predict(X)\n",
    "    matrix = confusion_matrix(Y, y_pred)\n",
    "\n",
    "    print(classifier_name[i])\n",
    "    print('\\nTrue positive: ', matrix[0][0])\n",
    "    print('False positive: ', matrix[0][1])\n",
    "    print('True Negative: ', matrix[1][1])\n",
    "    print('False Negative: ', matrix[1][0])\n",
    "    print('\\n\\nClassification Report\\n', classification_report(Y, y_pred))\n",
    "    print('-------------------------------------------------------')    "
   ]
  },
  {
   "cell_type": "code",
   "execution_count": 205,
   "metadata": {},
   "outputs": [
    {
     "data": {
      "image/png": "[encoded data removed]",
      "text/plain": [
       "<Figure size 432x360 with 1 Axes>"
      ]
     },
     "metadata": {},
     "output_type": "display_data"
    }
   ],
   "source": [
    "colors = ['green', 'blue', 'red', 'orange']\n",
    "\n",
    "plt.figure(figsize=(6,5))\n",
    "\n",
    "for i in range(0, len(classifiers)):\n",
    "    classifier = classifiers[i]\n",
    "    classifier.fit(X, Y)\n",
    "    y_pred = classifier.predict(X)\n",
    "    false_pos_rate, true_pos_rate, thresholds = roc_curve(Y, y_pred)\n",
    "    roc_auc = auc(false_pos_rate, true_pos_rate)\n",
    "    plt.plot(false_pos_rate, true_pos_rate, color=colors[i], label=classifier_name[i])\n",
    "\n",
    "random_pred = [0.0, 1.0]\n",
    "plt.plot(random_pred, random_pred, '--', label='Random', color='black')\n",
    "\n",
    "plt.legend(fontsize=10, loc='best')\n",
    "plt.title('ROC Curve', fontsize=18)\n",
    "plt.xlabel('FPR', fontsize=14)\n",
    "plt.ylabel('TPR', fontsize=14)\n",
    "plt.show()"
   ]
  },
  {
   "cell_type": "code",
   "execution_count": null,
   "metadata": {},
   "outputs": [],
   "source": [
    "# imbalanced-learn\n",
    "http://contrib.scikit-learn.org/imbalanced-learn/stable/auto_examples/index.html\n",
    "http://contrib.scikit-learn.org/imbalanced-learn/stable/auto_examples/combine/plot_smote_enn.html#sphx-glr-auto-examples-combine-plot-smote-enn-py\n",
    "^ use age & days before appt\n",
    "pie chart above"
   ]
  }
 ],
 "metadata": {
  "kernelspec": {
   "display_name": "Python 3",
   "language": "python",
   "name": "python3"
  },
  "language_info": {
   "codemirror_mode": {
    "name": "ipython",
    "version": 3
   },
   "file_extension": ".py",
   "mimetype": "text/x-python",
   "name": "python",
   "nbconvert_exporter": "python",
   "pygments_lexer": "ipython3",
   "version": "3.6.5"
  }
 },
 "nbformat": 4,
 "nbformat_minor": 2
}
