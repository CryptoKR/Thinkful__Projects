{
 "cells": [
  {
   "cell_type": "markdown",
   "metadata": {},
   "source": [
    "# Capstone Presentation\n",
    "\n",
    "---\n",
    "\n",
    "Project Requirements:\n",
    "* A specified research question that my model addresses\n",
    "* How I chose my model specification and what alternatives I compared it to\n",
    "* The practical uses of my model for an audience of interest\n",
    "* Any weak points or shortcomings of my model\n",
    "\n",
    "---\n",
    "\n",
    "### [Dataset](https://www.kaggle.com/joniarroba/noshowappointments/home)\n",
    "\n",
    "### Context\n",
    "A person makes a doctor appointment, receives all the instructions and is a no show.  Is it possible to predict someone to no-show an appointment?"
   ]
  },
  {
   "cell_type": "code",
   "execution_count": 62,
   "metadata": {},
   "outputs": [],
   "source": [
    "import numpy as np\n",
    "import pandas as pd\n",
    "import matplotlib.pyplot as plt\n",
    "import sklearn\n",
    "from sklearn.model_selection import cross_val_score\n",
    "from datetime import datetime"
   ]
  },
  {
   "cell_type": "code",
   "execution_count": 52,
   "metadata": {},
   "outputs": [
    {
     "data": {
      "text/html": [
       "<div>\n",
       "<style scoped>\n",
       "    .dataframe tbody tr th:only-of-type {\n",
       "        vertical-align: middle;\n",
       "    }\n",
       "\n",
       "    .dataframe tbody tr th {\n",
       "        vertical-align: top;\n",
       "    }\n",
       "\n",
       "    .dataframe thead th {\n",
       "        text-align: right;\n",
       "    }\n",
       "</style>\n",
       "<table border=\"1\" class=\"dataframe\">\n",
       "  <thead>\n",
       "    <tr style=\"text-align: right;\">\n",
       "      <th></th>\n",
       "      <th>PatientId</th>\n",
       "      <th>AppointmentID</th>\n",
       "      <th>Gender</th>\n",
       "      <th>ScheduledDay</th>\n",
       "      <th>AppointmentDay</th>\n",
       "      <th>Age</th>\n",
       "      <th>Neighbourhood</th>\n",
       "      <th>Scholarship</th>\n",
       "      <th>Hipertension</th>\n",
       "      <th>Diabetes</th>\n",
       "      <th>Alcoholism</th>\n",
       "      <th>Handcap</th>\n",
       "      <th>SMS_received</th>\n",
       "      <th>No-show</th>\n",
       "    </tr>\n",
       "  </thead>\n",
       "  <tbody>\n",
       "    <tr>\n",
       "      <th>0</th>\n",
       "      <td>2.987250e+13</td>\n",
       "      <td>5642903</td>\n",
       "      <td>F</td>\n",
       "      <td>2016-04-29T18:38:08Z</td>\n",
       "      <td>2016-04-29T00:00:00Z</td>\n",
       "      <td>62</td>\n",
       "      <td>JARDIM DA PENHA</td>\n",
       "      <td>0</td>\n",
       "      <td>1</td>\n",
       "      <td>0</td>\n",
       "      <td>0</td>\n",
       "      <td>0</td>\n",
       "      <td>0</td>\n",
       "      <td>No</td>\n",
       "    </tr>\n",
       "    <tr>\n",
       "      <th>1</th>\n",
       "      <td>5.589978e+14</td>\n",
       "      <td>5642503</td>\n",
       "      <td>M</td>\n",
       "      <td>2016-04-29T16:08:27Z</td>\n",
       "      <td>2016-04-29T00:00:00Z</td>\n",
       "      <td>56</td>\n",
       "      <td>JARDIM DA PENHA</td>\n",
       "      <td>0</td>\n",
       "      <td>0</td>\n",
       "      <td>0</td>\n",
       "      <td>0</td>\n",
       "      <td>0</td>\n",
       "      <td>0</td>\n",
       "      <td>No</td>\n",
       "    </tr>\n",
       "    <tr>\n",
       "      <th>2</th>\n",
       "      <td>4.262962e+12</td>\n",
       "      <td>5642549</td>\n",
       "      <td>F</td>\n",
       "      <td>2016-04-29T16:19:04Z</td>\n",
       "      <td>2016-04-29T00:00:00Z</td>\n",
       "      <td>62</td>\n",
       "      <td>MATA DA PRAIA</td>\n",
       "      <td>0</td>\n",
       "      <td>0</td>\n",
       "      <td>0</td>\n",
       "      <td>0</td>\n",
       "      <td>0</td>\n",
       "      <td>0</td>\n",
       "      <td>No</td>\n",
       "    </tr>\n",
       "    <tr>\n",
       "      <th>3</th>\n",
       "      <td>8.679512e+11</td>\n",
       "      <td>5642828</td>\n",
       "      <td>F</td>\n",
       "      <td>2016-04-29T17:29:31Z</td>\n",
       "      <td>2016-04-29T00:00:00Z</td>\n",
       "      <td>8</td>\n",
       "      <td>PONTAL DE CAMBURI</td>\n",
       "      <td>0</td>\n",
       "      <td>0</td>\n",
       "      <td>0</td>\n",
       "      <td>0</td>\n",
       "      <td>0</td>\n",
       "      <td>0</td>\n",
       "      <td>No</td>\n",
       "    </tr>\n",
       "    <tr>\n",
       "      <th>4</th>\n",
       "      <td>8.841186e+12</td>\n",
       "      <td>5642494</td>\n",
       "      <td>F</td>\n",
       "      <td>2016-04-29T16:07:23Z</td>\n",
       "      <td>2016-04-29T00:00:00Z</td>\n",
       "      <td>56</td>\n",
       "      <td>JARDIM DA PENHA</td>\n",
       "      <td>0</td>\n",
       "      <td>1</td>\n",
       "      <td>1</td>\n",
       "      <td>0</td>\n",
       "      <td>0</td>\n",
       "      <td>0</td>\n",
       "      <td>No</td>\n",
       "    </tr>\n",
       "  </tbody>\n",
       "</table>\n",
       "</div>"
      ],
      "text/plain": [
       "      PatientId  AppointmentID Gender          ScheduledDay  \\\n",
       "0  2.987250e+13        5642903      F  2016-04-29T18:38:08Z   \n",
       "1  5.589978e+14        5642503      M  2016-04-29T16:08:27Z   \n",
       "2  4.262962e+12        5642549      F  2016-04-29T16:19:04Z   \n",
       "3  8.679512e+11        5642828      F  2016-04-29T17:29:31Z   \n",
       "4  8.841186e+12        5642494      F  2016-04-29T16:07:23Z   \n",
       "\n",
       "         AppointmentDay  Age      Neighbourhood  Scholarship  Hipertension  \\\n",
       "0  2016-04-29T00:00:00Z   62    JARDIM DA PENHA            0             1   \n",
       "1  2016-04-29T00:00:00Z   56    JARDIM DA PENHA            0             0   \n",
       "2  2016-04-29T00:00:00Z   62      MATA DA PRAIA            0             0   \n",
       "3  2016-04-29T00:00:00Z    8  PONTAL DE CAMBURI            0             0   \n",
       "4  2016-04-29T00:00:00Z   56    JARDIM DA PENHA            0             1   \n",
       "\n",
       "   Diabetes  Alcoholism  Handcap  SMS_received No-show  \n",
       "0         0           0        0             0      No  \n",
       "1         0           0        0             0      No  \n",
       "2         0           0        0             0      No  \n",
       "3         0           0        0             0      No  \n",
       "4         1           0        0             0      No  "
      ]
     },
     "execution_count": 52,
     "metadata": {},
     "output_type": "execute_result"
    }
   ],
   "source": [
    "try:\n",
    "    file = 'C:/Users/Carter Carlson/Documents/Thinkful/Large Databases/No show dr appt.csv'\n",
    "    df = pd.read_csv(file)\n",
    "except:\n",
    "    file = 'C:/Users/18047/Downloads/KaggleV2-May-2016.csv'\n",
    "    df = pd.read_csv(file)\n",
    "df.head()"
   ]
  },
  {
   "cell_type": "code",
   "execution_count": 53,
   "metadata": {},
   "outputs": [],
   "source": [
    "df = df.drop(['AppointmentID', 'Neighbourhood'], 1)\n",
    "df = df.rename(columns={'Gender':'IsFemale'})\n",
    "\n",
    "df['ScheduledDay'] = df['ScheduledDay'].str[:10]\n",
    "df['AppointmentDay'] = df['AppointmentDay'].str[:10]\n",
    "\n",
    "df['ScheduledDay'] = pd.to_datetime(df['ScheduledDay'])\n",
    "df['AppointmentDay'] = pd.to_datetime(df['AppointmentDay'])\n",
    "\n",
    "# Create new features\n",
    "df['DaysScheduledInAdvance'] = abs(df['ScheduledDay'] - df['AppointmentDay']).dt.days\n",
    "df['ScheduledSameDay'] = (df['DaysScheduledInAdvance'] == 0)\n",
    "df['VeryHealthy'] = ((df['Hipertension'] + df['Diabetes'] + df['Alcoholism'] + df['Handcap']) == 0)\n",
    "df['VeryUnhealthy'] = ((df['Hipertension'] + df['Diabetes'] + df['Alcoholism'] + df['Handcap']) >= 2)\n",
    "\n",
    "\n",
    "# Convert columns to boolean\n",
    "cols_to_convert = ['Scholarship', 'Hipertension', 'Diabetes', 'Alcoholism', 'Handcap', 'SMS_received']\n",
    "for col in cols_to_convert:\n",
    "    df[col] = (df[col] > 0)\n",
    "\n",
    "df['IsFemale'] = (df['IsFemale'] == \"F\")\n",
    "df['No-show'] = (df['No-show'] != \"No\")\n",
    "df['SMS_received'] = (df['SMS_received'] == \"Yes\")"
   ]
  },
  {
   "cell_type": "code",
   "execution_count": 63,
   "metadata": {},
   "outputs": [
    {
     "data": {
      "text/plain": [
       "array([0.74884647, 0.73794445, 0.68881752, 0.74096358, 0.69679696])"
      ]
     },
     "execution_count": 63,
     "metadata": {},
     "output_type": "execute_result"
    }
   ],
   "source": [
    "from sklearn.naive_bayes import GaussianNB\n",
    "X = df[['DaysScheduledInAdvance', 'ScheduledSameDay', 'VeryHealthy', 'VeryUnhealthy', 'IsFemale', 'SMS_received', 'Scholarship']]\n",
    "Y = df['No-show']\n",
    "\n",
    "nb = GaussianNB()\n",
    "nb.fit(X, Y)\n",
    "cross_val_score(nb, X, Y, cv=5)"
   ]
  },
  {
   "cell_type": "code",
   "execution_count": 68,
   "metadata": {},
   "outputs": [
    {
     "data": {
      "text/plain": [
       "array([0.79363069, 0.79091649, 0.78223107, 0.79434517, 0.79365726])"
      ]
     },
     "execution_count": 68,
     "metadata": {},
     "output_type": "execute_result"
    }
   ],
   "source": [
    "from sklearn.ensemble import RandomForestClassifier\n",
    "tree = RandomForestClassifier()\n",
    "tree.fit(X, Y)\n",
    "cross_val_score(tree, X, Y, cv=5)"
   ]
  },
  {
   "cell_type": "code",
   "execution_count": 72,
   "metadata": {},
   "outputs": [
    {
     "data": {
      "text/plain": [
       "array([0.75857233, 0.75676287, 0.75002262, 0.74295408, 0.7580076 ])"
      ]
     },
     "execution_count": 72,
     "metadata": {},
     "output_type": "execute_result"
    }
   ],
   "source": [
    "from sklearn.neighbors import KNeighborsClassifier\n",
    "knn = KNeighborsClassifier()\n",
    "knn.fit(X, Y)\n",
    "cross_val_score(knn, X, Y, cv=5)"
   ]
  },
  {
   "cell_type": "code",
   "execution_count": 54,
   "metadata": {
    "collapsed": true
   },
   "outputs": [
    {
     "data": {
      "text/plain": [
       "PatientId\n",
       "8.221459e+14    88\n",
       "9.963767e+10    84\n",
       "2.688613e+13    70\n",
       "3.353478e+13    65\n",
       "7.579746e+13    62\n",
       "2.584244e+11    62\n",
       "8.713749e+14    62\n",
       "6.264199e+12    62\n",
       "6.684488e+13    57\n",
       "8.722785e+11    55\n",
       "8.923969e+13    54\n",
       "8.435224e+09    51\n",
       "8.534397e+14    50\n",
       "6.543360e+13    46\n",
       "1.447997e+13    46\n",
       "8.189452e+13    42\n",
       "9.452745e+12    42\n",
       "1.882323e+14    40\n",
       "2.271580e+12    38\n",
       "9.496197e+12    38\n",
       "1.336493e+13    37\n",
       "1.484143e+12    35\n",
       "8.883500e+13    34\n",
       "9.861628e+14    34\n",
       "7.124589e+14    33\n",
       "6.128878e+12    30\n",
       "4.167557e+14    30\n",
       "8.121397e+13    29\n",
       "8.634164e+12    24\n",
       "1.198157e+12    23\n",
       "                ..\n",
       "5.281214e+13     1\n",
       "5.279846e+13     1\n",
       "5.279786e+13     1\n",
       "5.278524e+13     1\n",
       "5.278333e+13     1\n",
       "5.276982e+13     1\n",
       "5.288356e+13     1\n",
       "5.292178e+13     1\n",
       "5.318354e+13     1\n",
       "5.292392e+13     1\n",
       "5.317939e+13     1\n",
       "5.316858e+13     1\n",
       "5.315530e+13     1\n",
       "5.314588e+13     1\n",
       "5.314186e+13     1\n",
       "5.313462e+13     1\n",
       "5.313166e+13     1\n",
       "5.312260e+13     1\n",
       "5.311243e+13     1\n",
       "5.299454e+13     1\n",
       "5.299396e+13     1\n",
       "5.298675e+13     1\n",
       "5.298324e+13     1\n",
       "5.297543e+13     1\n",
       "5.296826e+13     1\n",
       "5.296582e+13     1\n",
       "5.295720e+13     1\n",
       "5.295287e+13     1\n",
       "5.293546e+13     1\n",
       "3.921784e+04     1\n",
       "Name: PatientId, Length: 62299, dtype: int64"
      ]
     },
     "execution_count": 54,
     "metadata": {},
     "output_type": "execute_result"
    }
   ],
   "source": [
    "# Note: If appt. scheduled same day, do they receive sms messages too?\n",
    "# Note: add feature that displays count of visits / to show % of no shows for patient?\n",
    "df.groupby('PatientId')['PatientId'].count().sort_values(ascending=False)"
   ]
  }
 ],
 "metadata": {
  "kernelspec": {
   "display_name": "Python 3",
   "language": "python",
   "name": "python3"
  },
  "language_info": {
   "codemirror_mode": {
    "name": "ipython",
    "version": 3
   },
   "file_extension": ".py",
   "mimetype": "text/x-python",
   "name": "python",
   "nbconvert_exporter": "python",
   "pygments_lexer": "ipython3",
   "version": "3.6.5"
  }
 },
 "nbformat": 4,
 "nbformat_minor": 2
}
