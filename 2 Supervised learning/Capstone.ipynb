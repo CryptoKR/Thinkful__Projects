{
 "cells": [
  {
   "cell_type": "markdown",
   "metadata": {},
   "source": [
    "# Predicting Medical Appointment No Shows\n",
    "\n",
    "---\n",
    "\n",
    "### [Dataset](https://www.kaggle.com/joniarroba/noshowappointments/home)\n",
    "\n",
    "### Context\n",
    "A person makes a doctor appointment, receives all the instructions and is a no show.  Is it possible to predict if someone will be a no-show?\n",
    "\n",
    "### Content\n",
    "This dataset contains over 100,000 medical appointments and 15 characteristics of each appointment.  The appointments took place in Brazil and occurred between April 29, 2016 and June 8, 2016. "
   ]
  },
  {
   "cell_type": "code",
   "execution_count": 1,
   "metadata": {},
   "outputs": [],
   "source": [
    "import numpy as np\n",
    "import pandas as pd\n",
    "import matplotlib.pyplot as plt\n",
    "\n",
    "import seaborn as sns\n",
    "sns.set_style('white')"
   ]
  },
  {
   "cell_type": "code",
   "execution_count": 2,
   "metadata": {},
   "outputs": [
    {
     "data": {
      "text/html": [
       "<div>\n",
       "<style scoped>\n",
       "    .dataframe tbody tr th:only-of-type {\n",
       "        vertical-align: middle;\n",
       "    }\n",
       "\n",
       "    .dataframe tbody tr th {\n",
       "        vertical-align: top;\n",
       "    }\n",
       "\n",
       "    .dataframe thead th {\n",
       "        text-align: right;\n",
       "    }\n",
       "</style>\n",
       "<table border=\"1\" class=\"dataframe\">\n",
       "  <thead>\n",
       "    <tr style=\"text-align: right;\">\n",
       "      <th></th>\n",
       "      <th>PatientId</th>\n",
       "      <th>AppointmentID</th>\n",
       "      <th>Gender</th>\n",
       "      <th>ScheduledDay</th>\n",
       "      <th>AppointmentDay</th>\n",
       "      <th>Age</th>\n",
       "      <th>Neighbourhood</th>\n",
       "      <th>Scholarship</th>\n",
       "      <th>Hipertension</th>\n",
       "      <th>Diabetes</th>\n",
       "      <th>Alcoholism</th>\n",
       "      <th>Handcap</th>\n",
       "      <th>SMS_received</th>\n",
       "      <th>No-show</th>\n",
       "    </tr>\n",
       "  </thead>\n",
       "  <tbody>\n",
       "    <tr>\n",
       "      <th>0</th>\n",
       "      <td>2.987250e+13</td>\n",
       "      <td>5642903</td>\n",
       "      <td>F</td>\n",
       "      <td>2016-04-29T18:38:08Z</td>\n",
       "      <td>2016-04-29T00:00:00Z</td>\n",
       "      <td>62</td>\n",
       "      <td>JARDIM DA PENHA</td>\n",
       "      <td>0</td>\n",
       "      <td>1</td>\n",
       "      <td>0</td>\n",
       "      <td>0</td>\n",
       "      <td>0</td>\n",
       "      <td>0</td>\n",
       "      <td>No</td>\n",
       "    </tr>\n",
       "    <tr>\n",
       "      <th>1</th>\n",
       "      <td>5.589978e+14</td>\n",
       "      <td>5642503</td>\n",
       "      <td>M</td>\n",
       "      <td>2016-04-29T16:08:27Z</td>\n",
       "      <td>2016-04-29T00:00:00Z</td>\n",
       "      <td>56</td>\n",
       "      <td>JARDIM DA PENHA</td>\n",
       "      <td>0</td>\n",
       "      <td>0</td>\n",
       "      <td>0</td>\n",
       "      <td>0</td>\n",
       "      <td>0</td>\n",
       "      <td>0</td>\n",
       "      <td>No</td>\n",
       "    </tr>\n",
       "    <tr>\n",
       "      <th>2</th>\n",
       "      <td>4.262962e+12</td>\n",
       "      <td>5642549</td>\n",
       "      <td>F</td>\n",
       "      <td>2016-04-29T16:19:04Z</td>\n",
       "      <td>2016-04-29T00:00:00Z</td>\n",
       "      <td>62</td>\n",
       "      <td>MATA DA PRAIA</td>\n",
       "      <td>0</td>\n",
       "      <td>0</td>\n",
       "      <td>0</td>\n",
       "      <td>0</td>\n",
       "      <td>0</td>\n",
       "      <td>0</td>\n",
       "      <td>No</td>\n",
       "    </tr>\n",
       "    <tr>\n",
       "      <th>3</th>\n",
       "      <td>8.679512e+11</td>\n",
       "      <td>5642828</td>\n",
       "      <td>F</td>\n",
       "      <td>2016-04-29T17:29:31Z</td>\n",
       "      <td>2016-04-29T00:00:00Z</td>\n",
       "      <td>8</td>\n",
       "      <td>PONTAL DE CAMBURI</td>\n",
       "      <td>0</td>\n",
       "      <td>0</td>\n",
       "      <td>0</td>\n",
       "      <td>0</td>\n",
       "      <td>0</td>\n",
       "      <td>0</td>\n",
       "      <td>No</td>\n",
       "    </tr>\n",
       "    <tr>\n",
       "      <th>4</th>\n",
       "      <td>8.841186e+12</td>\n",
       "      <td>5642494</td>\n",
       "      <td>F</td>\n",
       "      <td>2016-04-29T16:07:23Z</td>\n",
       "      <td>2016-04-29T00:00:00Z</td>\n",
       "      <td>56</td>\n",
       "      <td>JARDIM DA PENHA</td>\n",
       "      <td>0</td>\n",
       "      <td>1</td>\n",
       "      <td>1</td>\n",
       "      <td>0</td>\n",
       "      <td>0</td>\n",
       "      <td>0</td>\n",
       "      <td>No</td>\n",
       "    </tr>\n",
       "  </tbody>\n",
       "</table>\n",
       "</div>"
      ],
      "text/plain": [
       "      PatientId  AppointmentID Gender          ScheduledDay  \\\n",
       "0  2.987250e+13        5642903      F  2016-04-29T18:38:08Z   \n",
       "1  5.589978e+14        5642503      M  2016-04-29T16:08:27Z   \n",
       "2  4.262962e+12        5642549      F  2016-04-29T16:19:04Z   \n",
       "3  8.679512e+11        5642828      F  2016-04-29T17:29:31Z   \n",
       "4  8.841186e+12        5642494      F  2016-04-29T16:07:23Z   \n",
       "\n",
       "         AppointmentDay  Age      Neighbourhood  Scholarship  Hipertension  \\\n",
       "0  2016-04-29T00:00:00Z   62    JARDIM DA PENHA            0             1   \n",
       "1  2016-04-29T00:00:00Z   56    JARDIM DA PENHA            0             0   \n",
       "2  2016-04-29T00:00:00Z   62      MATA DA PRAIA            0             0   \n",
       "3  2016-04-29T00:00:00Z    8  PONTAL DE CAMBURI            0             0   \n",
       "4  2016-04-29T00:00:00Z   56    JARDIM DA PENHA            0             1   \n",
       "\n",
       "   Diabetes  Alcoholism  Handcap  SMS_received No-show  \n",
       "0         0           0        0             0      No  \n",
       "1         0           0        0             0      No  \n",
       "2         0           0        0             0      No  \n",
       "3         0           0        0             0      No  \n",
       "4         1           0        0             0      No  "
      ]
     },
     "execution_count": 2,
     "metadata": {},
     "output_type": "execute_result"
    }
   ],
   "source": [
    "try:\n",
    "    file = 'C:/Users/Carter Carlson/Documents/Thinkful/Large Databases/No show dr appt.csv'\n",
    "    data = pd.read_csv(file)\n",
    "except:\n",
    "    file = 'C:/Users/18047/Downloads/KaggleV2-May-2016.csv'\n",
    "    data = pd.read_csv(file)\n",
    "\n",
    "data.head()"
   ]
  },
  {
   "cell_type": "code",
   "execution_count": 3,
   "metadata": {},
   "outputs": [
    {
     "name": "stdout",
     "output_type": "stream",
     "text": [
      "# of Records:\n",
      " 110527\n",
      "\n",
      "\n",
      " # of No-shows\n",
      " No-show\n",
      "No     88208\n",
      "Yes    22319\n",
      "Name: No-show, dtype: int64\n"
     ]
    }
   ],
   "source": [
    "print('# of Records:\\n', len(data))\n",
    "print('\\n\\n # of No-shows\\n', data.groupby('No-show')['No-show'].count())"
   ]
  },
  {
   "cell_type": "markdown",
   "metadata": {},
   "source": [
    "This dataset contains about 4x \"No\" no-shows compared to \"Yes\" no-shows.  The predicted results may be skewed because of this; if the classifier is 50% accurate for \"No\" and 50% accurate for \"Yes\", we could accurately predict ~11,000 of \"Yes\" no-shows and ~44,000 of \"No\" no-shows.  If we strictly looked at the results it would seem that our classifier is 4x more accurate guessing \"No\" no-shows, when in reality the classifier is just as accurate with guessing \"Yes\" no-shows.  To normalize the data I'll limit the dataset to the same number of \"Yes\" and \"No\"."
   ]
  },
  {
   "cell_type": "code",
   "execution_count": 4,
   "metadata": {},
   "outputs": [],
   "source": [
    "df_yes = data.where(data['No-show'] == 'Yes').dropna()\n",
    "df_no = data.where(data['No-show'] == 'No').dropna()\n",
    "\n",
    "# Analyze the same # of 'Yes' and 'No' for no-shows\n",
    "df_no = df_no[:len(df_yes)]\n",
    "\n",
    "# Combine 'Yes' and 'No' dataframes\n",
    "df = pd.concat([df_yes, df_no])\n",
    "\n",
    "# Data cleaning/adding features\n",
    "\n",
    "df = df.drop(['AppointmentID', 'Neighbourhood'], 1)\n",
    "df = df.rename(columns={'Gender':'IsFemale'})\n",
    "\n",
    "# Convert ScheduledDay and AppointmentDay into dates\n",
    "df['ScheduledDay'] = df['ScheduledDay'].str[:10]\n",
    "df['AppointmentDay'] = df['AppointmentDay'].str[:10]\n",
    "df['ScheduledDay'] = pd.to_datetime(df['ScheduledDay'])\n",
    "df['AppointmentDay'] = pd.to_datetime(df['AppointmentDay'])\n",
    "\n",
    "# Create new features\n",
    "df['DaysBeforeAppt'] = abs(df['ScheduledDay'] - df['AppointmentDay']).dt.days\n",
    "df['ScheduledSameDay'] = (df['DaysBeforeAppt'] == 0)\n",
    "df['VeryHealthy'] = ((df['Hipertension'] + df['Diabetes'] + df['Alcoholism'] + df['Handcap']) == 0)\n",
    "df['VeryUnhealthy'] = ((df['Hipertension'] + df['Diabetes'] + df['Alcoholism'] + df['Handcap']) >= 2)\n",
    "\n",
    "# Convert columns to boolean\n",
    "cols_to_convert = ['Scholarship', 'Hipertension', 'Diabetes', 'Alcoholism', 'Handcap', 'SMS_received']\n",
    "for col in cols_to_convert:\n",
    "    df[col] = (df[col] > 0)\n",
    "\n",
    "df['IsFemale'] = (df['IsFemale'] == \"F\")\n",
    "df['No-show'] = (df['No-show'] != \"No\")"
   ]
  },
  {
   "cell_type": "markdown",
   "metadata": {},
   "source": [
    "---\n",
    "## Correlation Analysis\n",
    "\n",
    "Let's filter our dataset to only variables with low correlation to each other.  It may help our model be less biased by removing any weight two correlated variables would create on predictions."
   ]
  },
  {
   "cell_type": "code",
   "execution_count": 5,
   "metadata": {},
   "outputs": [
    {
     "data": {
      "image/png": "[encoded data removed]",
      "text/plain": [
       "<Figure size 432x288 with 2 Axes>"
      ]
     },
     "metadata": {},
     "output_type": "display_data"
    }
   ],
   "source": [
    "X = df[['DaysBeforeAppt', 'ScheduledSameDay', 'VeryHealthy', 'VeryUnhealthy', 'IsFemale', 'SMS_received', 'Scholarship', 'Age']]\n",
    "Y = df['No-show']\n",
    "\n",
    "correlations = X.corr()\n",
    "\n",
    "sns.heatmap(correlations, vmax=.8, square=True)\n",
    "plt.show()"
   ]
  },
  {
   "cell_type": "markdown",
   "metadata": {},
   "source": [
    "### Positive AND Negative Correlations\n",
    "Age and SMS_received have a strong positive correlation and strong negative correlation with other variables.  For Age the variables correlated are, unsurprisingly, VeryHealthy and VeryUnhealthy, so for now I'll remove the Age variable.  SMS_received doesn't have the same clear relationship with its' variables (DaysBeforeAppt and ScheduleSameDay) as Age does, so for now it'll stay in the dataset."
   ]
  },
  {
   "cell_type": "markdown",
   "metadata": {},
   "source": [
    "### Negative Correlations\n",
    "\n",
    "I'm not surprised VeryHealthy and VeryUnhealthy are strongly and negatively correlated.  I'll remove one of the columns. Also, ScheduledSameDay and DaysBeforeAppt are negatively correlated, so I'll remove ScheduledSameDay since it's limited to boolean values, and keep DaysBeforeAppt as a continuous variable.\n",
    "\n",
    "There's a strong negative correlation between ScheduledSameDay and SMS_received, which might mean people only receive a text if they schedule at least a day before their appointment."
   ]
  },
  {
   "cell_type": "code",
   "execution_count": 6,
   "metadata": {},
   "outputs": [
    {
     "data": {
      "text/html": [
       "<div>\n",
       "<style scoped>\n",
       "    .dataframe tbody tr th:only-of-type {\n",
       "        vertical-align: middle;\n",
       "    }\n",
       "\n",
       "    .dataframe tbody tr th {\n",
       "        vertical-align: top;\n",
       "    }\n",
       "\n",
       "    .dataframe thead th {\n",
       "        text-align: right;\n",
       "    }\n",
       "</style>\n",
       "<table border=\"1\" class=\"dataframe\">\n",
       "  <thead>\n",
       "    <tr style=\"text-align: right;\">\n",
       "      <th></th>\n",
       "      <th>Days before appt</th>\n",
       "      <th>Appts scheduled</th>\n",
       "      <th>Texts received</th>\n",
       "    </tr>\n",
       "  </thead>\n",
       "  <tbody>\n",
       "    <tr>\n",
       "      <th>0</th>\n",
       "      <td>0</td>\n",
       "      <td>10549</td>\n",
       "      <td>0</td>\n",
       "    </tr>\n",
       "    <tr>\n",
       "      <th>1</th>\n",
       "      <td>1</td>\n",
       "      <td>2059</td>\n",
       "      <td>0</td>\n",
       "    </tr>\n",
       "    <tr>\n",
       "      <th>2</th>\n",
       "      <td>2</td>\n",
       "      <td>3282</td>\n",
       "      <td>0</td>\n",
       "    </tr>\n",
       "    <tr>\n",
       "      <th>3</th>\n",
       "      <td>3</td>\n",
       "      <td>1244</td>\n",
       "      <td>381</td>\n",
       "    </tr>\n",
       "    <tr>\n",
       "      <th>4</th>\n",
       "      <td>4</td>\n",
       "      <td>2688</td>\n",
       "      <td>1459</td>\n",
       "    </tr>\n",
       "    <tr>\n",
       "      <th>5</th>\n",
       "      <td>5</td>\n",
       "      <td>1655</td>\n",
       "      <td>946</td>\n",
       "    </tr>\n",
       "  </tbody>\n",
       "</table>\n",
       "</div>"
      ],
      "text/plain": [
       "   Days before appt  Appts scheduled  Texts received\n",
       "0                 0            10549               0\n",
       "1                 1             2059               0\n",
       "2                 2             3282               0\n",
       "3                 3             1244             381\n",
       "4                 4             2688            1459\n",
       "5                 5             1655             946"
      ]
     },
     "execution_count": 6,
     "metadata": {},
     "output_type": "execute_result"
    }
   ],
   "source": [
    "num_days = []\n",
    "num_appts = []\n",
    "num_texts = []\n",
    "\n",
    "for i in range(0,6):    \n",
    "    num_days.append(i)\n",
    "    num_appts.append(df[df['DaysBeforeAppt'] == i].count()['DaysBeforeAppt'])\n",
    "    num_texts.append(df[(df['DaysBeforeAppt'] == i) & (df['SMS_received'] == True)].count()['SMS_received'])\n",
    "\n",
    "pd.DataFrame(\n",
    "    {'Days before appt': num_days,\n",
    "     'Appts scheduled': num_appts,\n",
    "     'Texts received': num_texts\n",
    "    })"
   ]
  },
  {
   "cell_type": "markdown",
   "metadata": {},
   "source": [
    "### Positive Correlations\n",
    "\n",
    "Going back to the heatmap, there is a strong positive correlation between SMS_received and DaysBeforeAppt. We can conclude from the table above that text reminders are only sent if the appointment is scheduled at least three days in advance, which explains the SMS_received and DaysBeforeAppt correlation, so I'll remove SMS_received as a feature.  On a side note, I think it's interesting that not everyone who schedules in advance will receive a text."
   ]
  },
  {
   "cell_type": "code",
   "execution_count": 7,
   "metadata": {
    "scrolled": true
   },
   "outputs": [],
   "source": [
    "# Add a feature to show the total number of texts a patient received in proportion to their number of appts.\n",
    "texts_by_patient = df[df['SMS_received'] == 1].groupby('PatientId')['SMS_received'].count()\n",
    "appts_by_patient = df.groupby('PatientId')['IsFemale'].count()\n",
    "\n",
    "texts_by_patient = texts_by_patient.reset_index()\n",
    "appts_by_patient = appts_by_patient.reset_index()\n",
    "\n",
    "texts_by_patient = texts_by_patient.rename(columns={'SMS_received': 'NumTextsReceived'})\n",
    "appts_by_patient = appts_by_patient.rename(columns={'IsFemale': 'NumAppts'})\n",
    "\n",
    "df2 = pd.merge(appts_by_patient, texts_by_patient, on='PatientId')\n",
    "df2['TextsToAppts'] = df2['NumTextsReceived'] / df2['NumAppts']\n",
    "\n",
    "df = pd.merge(df, df2[['PatientId', 'TextsToAppts']], how='left', on='PatientId')\n",
    "\n",
    "df = df.drop('SMS_received', 1)\n",
    "df = df.fillna(0)"
   ]
  },
  {
   "cell_type": "code",
   "execution_count": 8,
   "metadata": {
    "scrolled": true
   },
   "outputs": [
    {
     "data": {
      "image/png": "[encoded data removed]",
      "text/plain": [
       "<Figure size 432x288 with 2 Axes>"
      ]
     },
     "metadata": {},
     "output_type": "display_data"
    }
   ],
   "source": [
    "X = df[['DaysBeforeAppt', 'VeryUnhealthy', 'IsFemale', 'Scholarship', 'TextsToAppts']]\n",
    "Y = df['No-show']\n",
    "correlations = X.corr()\n",
    "\n",
    "sns.heatmap(correlations, vmax=.8, square=True)\n",
    "plt.show()"
   ]
  },
  {
   "cell_type": "markdown",
   "metadata": {},
   "source": [
    "Much better!\n",
    "\n",
    "---\n",
    "\n",
    "## Variable Importance"
   ]
  },
  {
   "cell_type": "code",
   "execution_count": 9,
   "metadata": {},
   "outputs": [
    {
     "data": {
      "image/png": "[encoded data removed]",
      "text/plain": [
       "<Figure size 432x288 with 1 Axes>"
      ]
     },
     "metadata": {},
     "output_type": "display_data"
    }
   ],
   "source": [
    "from sklearn.ensemble import RandomForestClassifier\n",
    "# Play with parameters\n",
    "tree = RandomForestClassifier()\n",
    "X = df.drop(['No-show', 'PatientId', 'ScheduledDay', 'AppointmentDay'], 1)\n",
    "Y = df['No-show']\n",
    "tree.fit(X, Y)\n",
    "\n",
    "feature_importance = tree.feature_importances_\n",
    "feature_importance = 100.0 * (feature_importance / feature_importance.max())\n",
    "sorted_features = np.argsort(feature_importance)\n",
    "pos = np.arange(sorted_features.shape[0]) + .5\n",
    "plt.barh(pos, feature_importance[sorted_features], align='center')\n",
    "plt.title('Variable Importance')\n",
    "plt.xlabel('Relative Importance')\n",
    "plt.yticks(pos, X.columns[sorted_features])\n",
    "plt.show()"
   ]
  },
  {
   "cell_type": "markdown",
   "metadata": {},
   "source": [
    "We saw earlier that Age had a high correlation with VeryHealthy and VeryUnhealthy, and decided to remove it.  Now we see that Age is the most important factor to predict no-shows while VeryHealthy and VeryUnhealthy have almost no relative importance.  Moving forward I'll use the 4 most important variables to predict no-shows.\n",
    "\n",
    "---\n",
    "# Regression"
   ]
  },
  {
   "cell_type": "code",
   "execution_count": null,
   "metadata": {},
   "outputs": [
    {
     "name": "stderr",
     "output_type": "stream",
     "text": [
      "C:\\ProgramData\\Anaconda3\\lib\\site-packages\\sklearn\\naive_bayes.py:472: UserWarning: alpha too small will result in numeric errors, setting alpha = 1.0e-10\n",
      "  'setting alpha = %.1e' % _ALPHA_MIN)\n",
      "C:\\ProgramData\\Anaconda3\\lib\\site-packages\\sklearn\\naive_bayes.py:472: UserWarning: alpha too small will result in numeric errors, setting alpha = 1.0e-10\n",
      "  'setting alpha = %.1e' % _ALPHA_MIN)\n",
      "C:\\ProgramData\\Anaconda3\\lib\\site-packages\\sklearn\\naive_bayes.py:472: UserWarning: alpha too small will result in numeric errors, setting alpha = 1.0e-10\n",
      "  'setting alpha = %.1e' % _ALPHA_MIN)\n",
      "C:\\ProgramData\\Anaconda3\\lib\\site-packages\\sklearn\\naive_bayes.py:472: UserWarning: alpha too small will result in numeric errors, setting alpha = 1.0e-10\n",
      "  'setting alpha = %.1e' % _ALPHA_MIN)\n",
      "C:\\ProgramData\\Anaconda3\\lib\\site-packages\\sklearn\\naive_bayes.py:472: UserWarning: alpha too small will result in numeric errors, setting alpha = 1.0e-10\n",
      "  'setting alpha = %.1e' % _ALPHA_MIN)\n",
      "C:\\ProgramData\\Anaconda3\\lib\\site-packages\\sklearn\\naive_bayes.py:472: UserWarning: alpha too small will result in numeric errors, setting alpha = 1.0e-10\n",
      "  'setting alpha = %.1e' % _ALPHA_MIN)\n"
     ]
    }
   ],
   "source": [
    "from sklearn.linear_model import LogisticRegression\n",
    "from sklearn.naive_bayes import BernoulliNB\n",
    "from sklearn.ensemble import RandomForestClassifier\n",
    "from sklearn.neighbors import KNeighborsClassifier\n",
    "from sklearn.model_selection import RandomizedSearchCV\n",
    "from sklearn.model_selection import GridSearchCV\n",
    "\n",
    "import math\n",
    "\n",
    "X = df[['Age', 'DaysBeforeAppt', 'ScheduledSameDay', 'TextsToAppts']]\n",
    "Y = df['No-show']\n",
    "\n",
    "# Create classifier\n",
    "logr = LogisticRegression()\n",
    "bnb = BernoulliNB()\n",
    "tree = RandomForestClassifier()\n",
    "knn = KNeighborsClassifier()\n",
    "\n",
    "# Collection of possible parameters\n",
    "logr_param = {'max_iter': [50, 100, 200],\n",
    "             'solver': ['newton-cg', 'lbfgs', 'liblinear', 'sag'],\n",
    "             'tol': [math.exp(-5), math.exp(-4), math.exp(-3)]}\n",
    "\n",
    "bnb_param = {'alpha': [0.5, 1, 2]}\n",
    "\n",
    "knn_param = {'n_neighbors': [2, 4, 8],\n",
    "             'leaf_size': [10, 30, 50]}\n",
    "\n",
    "tree_param = {'n_estimators': [5, 10, 20],\n",
    "             'min_samples_split': [2, 5, 10],\n",
    "             'min_samples_leaf': [1, 2, 4]}\n",
    "\n",
    "# Determine the best parameters\n",
    "logr_random = GridSearchCV(estimator=logr, param_grid=logr_param, cv=5)\n",
    "bnb_random = GridSearchCV(estimator=bnb, param_grid=bnb_param, cv=5)\n",
    "knn_random = GridSearchCV(estimator=knn, param_grid=knn_param, cv=5)\n",
    "tree_random = GridSearchCV(estimator=tree, param_grid=tree_param, cv=5)\n",
    "\n",
    "logr_random.fit(X, Y)\n",
    "bnb_random.fit(X, Y)\n",
    "knn_random.fit(X, Y)\n",
    "tree_random.fit(X, Y)\n",
    "\n",
    "logr = LogisticRegression(logr_random.best_params_)\n",
    "bnb = bnb(bnb_random.best_params_)\n",
    "knn = knn(logr_random.best_params_)\n",
    "tree = tree(logr_random.best_params_)\n"
   ]
  },
  {
   "cell_type": "code",
   "execution_count": null,
   "metadata": {},
   "outputs": [],
   "source": [
    "classifiers = [logr, bnb, tree, knn]\n",
    "classifier_name = ['Logistic Regression', 'Bernoulli Naive Bayes', 'Random Forest', 'K Nearest Neighbors']\n",
    "\n",
    "for i in range(0, len(classifiers)):\n",
    "    classifier = classifiers[i]\n",
    "    classifier.fit(X, Y)\n",
    "    y_pred = classifier.predict(X)\n",
    "    matrix = confusion_matrix(Y, y_pred)\n",
    "\n",
    "    print(classifier_name[i])\n",
    "    print('\\nTrue positive: ', matrix[0][0])\n",
    "    print('False positive: ', matrix[0][1])\n",
    "    print('True Negative: ', matrix[1][1])\n",
    "    print('False Negative: ', matrix[1][0])\n",
    "    print('\\n\\nClassification Report\\n', classification_report(Y, y_pred))\n",
    "    print('-------------------------------------------------------')    "
   ]
  },
  {
   "cell_type": "code",
   "execution_count": 205,
   "metadata": {},
   "outputs": [
    {
     "data": {
      "image/png": "[encoded data removed]",
      "text/plain": [
       "<Figure size 432x360 with 1 Axes>"
      ]
     },
     "metadata": {},
     "output_type": "display_data"
    }
   ],
   "source": [
    "from sklearn.metrics import roc_curve, auc\n",
    "\n",
    "classifier_name = ['Logistic Regression', 'Bernoulli Naive Bayes', 'Random Forest', 'K Nearest Neighbors']\n",
    "colors = ['green', 'blue', 'red', 'orange']\n",
    "classifiers = [logr, bnb, tree, knn]\n",
    "\n",
    "plt.figure(figsize=(6,5))\n",
    "\n",
    "for i in range(0, len(classifiers)):\n",
    "    classifier = classifiers[i]\n",
    "    classifier.fit(X, Y)\n",
    "    y_pred = classifier.predict(X)\n",
    "    false_pos_rate, true_pos_rate, thresholds = roc_curve(Y, y_pred)\n",
    "    roc_auc = auc(false_pos_rate, true_pos_rate)\n",
    "    plt.plot(false_pos_rate, true_pos_rate, color=colors[i], label=classifier_name[i])\n",
    "\n",
    "random_pred = [0.0, 1.0]\n",
    "plt.plot(random_pred, random_pred, '--', label='Random', color='black')\n",
    "\n",
    "plt.legend(fontsize=10, loc='best')\n",
    "plt.title('ROC Curve', fontsize=18)\n",
    "plt.xlabel('FPR', fontsize=14)\n",
    "plt.ylabel('TPR', fontsize=14)\n",
    "plt.show()"
   ]
  }
 ],
 "metadata": {
  "kernelspec": {
   "display_name": "Python 3",
   "language": "python",
   "name": "python3"
  },
  "language_info": {
   "codemirror_mode": {
    "name": "ipython",
    "version": 3
   },
   "file_extension": ".py",
   "mimetype": "text/x-python",
   "name": "python",
   "nbconvert_exporter": "python",
   "pygments_lexer": "ipython3",
   "version": "3.6.5"
  }
 },
 "nbformat": 4,
 "nbformat_minor": 2
}
